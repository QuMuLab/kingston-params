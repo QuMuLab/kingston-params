{
 "cells": [
  {
   "cell_type": "markdown",
   "metadata": {},
   "source": [
    "# Kingston Model Parameter Dictionary\n",
    "\n",
    "Dictionary of region-specific model parameters defined in kingston.yaml"
   ]
  },
  {
   "cell_type": "markdown",
   "metadata": {},
   "source": [
    "## A note on formatting\n",
    "\n",
    "Variable names of the form VARIABLE_NAME (upper case) are model configuration parameters. **These are the only varaibles that will be used by the simulation.**\n",
    "\n",
    "Variable names of the form variable_name (lower_case) serve as descriptive names of intermediate variables used in deriving the above model configuration parameters. We provide these to help improve understanding of how model configuration parameters were derived when they were not taken directly from a data source.\n",
    "\n",
    "Variables names of the form X_0 are alternate names for most intermediate variables. They were assigned by the authors of the Montreal model configuration file (cite Mila study). We have preserved them to help us construct the initial draft of this data dictionary. \n",
    "\n",
    "Except where noted the methods used to calculate these variables come from (cite Mila study)"
   ]
  },
  {
   "cell_type": "markdown",
   "metadata": {},
   "source": [
    "## Set-up"
   ]
  },
  {
   "cell_type": "code",
   "execution_count": 1,
   "metadata": {},
   "outputs": [
    {
     "name": "stdout",
     "output_type": "stream",
     "text": [
      "Requirement already satisfied: numpy in /home/paredes/miniconda/envs/covi-contacts/lib/python3.8/site-packages (1.20.3)\r\n"
     ]
    }
   ],
   "source": [
    "!pip install numpy"
   ]
  },
  {
   "cell_type": "code",
   "execution_count": 2,
   "metadata": {},
   "outputs": [
    {
     "name": "stdout",
     "output_type": "stream",
     "text": [
      "Requirement already satisfied: pandas in /home/paredes/miniconda/envs/covi-contacts/lib/python3.8/site-packages (1.2.4)\r\n",
      "Requirement already satisfied: pytz>=2017.3 in /home/paredes/miniconda/envs/covi-contacts/lib/python3.8/site-packages (from pandas) (2021.1)\r\n",
      "Requirement already satisfied: python-dateutil>=2.7.3 in /home/paredes/miniconda/envs/covi-contacts/lib/python3.8/site-packages (from pandas) (2.8.1)\r\n",
      "Requirement already satisfied: numpy>=1.16.5 in /home/paredes/miniconda/envs/covi-contacts/lib/python3.8/site-packages (from pandas) (1.20.3)\r\n",
      "Requirement already satisfied: six>=1.5 in /home/paredes/miniconda/envs/covi-contacts/lib/python3.8/site-packages (from python-dateutil>=2.7.3->pandas) (1.16.0)\r\n"
     ]
    }
   ],
   "source": [
    "!pip install pandas"
   ]
  },
  {
   "cell_type": "code",
   "execution_count": 3,
   "metadata": {},
   "outputs": [
    {
     "name": "stdout",
     "output_type": "stream",
     "text": [
      "Requirement already satisfied: seaborn in /home/paredes/miniconda/envs/covi-contacts/lib/python3.8/site-packages (0.11.1)\r\n",
      "Requirement already satisfied: pandas>=0.23 in /home/paredes/miniconda/envs/covi-contacts/lib/python3.8/site-packages (from seaborn) (1.2.4)\r\n",
      "Requirement already satisfied: scipy>=1.0 in /home/paredes/miniconda/envs/covi-contacts/lib/python3.8/site-packages (from seaborn) (1.6.3)\r\n",
      "Requirement already satisfied: matplotlib>=2.2 in /home/paredes/miniconda/envs/covi-contacts/lib/python3.8/site-packages (from seaborn) (3.4.2)\r\n",
      "Requirement already satisfied: numpy>=1.15 in /home/paredes/miniconda/envs/covi-contacts/lib/python3.8/site-packages (from seaborn) (1.20.3)\r\n",
      "Requirement already satisfied: python-dateutil>=2.7 in /home/paredes/miniconda/envs/covi-contacts/lib/python3.8/site-packages (from matplotlib>=2.2->seaborn) (2.8.1)\r\n",
      "Requirement already satisfied: kiwisolver>=1.0.1 in /home/paredes/miniconda/envs/covi-contacts/lib/python3.8/site-packages (from matplotlib>=2.2->seaborn) (1.3.1)\r\n",
      "Requirement already satisfied: pyparsing>=2.2.1 in /home/paredes/miniconda/envs/covi-contacts/lib/python3.8/site-packages (from matplotlib>=2.2->seaborn) (2.4.7)\r\n",
      "Requirement already satisfied: pillow>=6.2.0 in /home/paredes/miniconda/envs/covi-contacts/lib/python3.8/site-packages (from matplotlib>=2.2->seaborn) (8.2.0)\r\n",
      "Requirement already satisfied: cycler>=0.10 in /home/paredes/miniconda/envs/covi-contacts/lib/python3.8/site-packages (from matplotlib>=2.2->seaborn) (0.10.0)\r\n",
      "Requirement already satisfied: six in /home/paredes/miniconda/envs/covi-contacts/lib/python3.8/site-packages (from cycler>=0.10->matplotlib>=2.2->seaborn) (1.16.0)\r\n",
      "Requirement already satisfied: pytz>=2017.3 in /home/paredes/miniconda/envs/covi-contacts/lib/python3.8/site-packages (from pandas>=0.23->seaborn) (2021.1)\r\n"
     ]
    }
   ],
   "source": [
    "!pip install seaborn"
   ]
  },
  {
   "cell_type": "code",
   "execution_count": 4,
   "metadata": {},
   "outputs": [
    {
     "name": "stdout",
     "output_type": "stream",
     "text": [
      "Collecting git+https://github.com/QuMuLab/covi-contacts\n",
      "  Cloning https://github.com/QuMuLab/covi-contacts to /tmp/pip-req-build-9xhx35jc\n",
      "  Running command git clone -q https://github.com/QuMuLab/covi-contacts /tmp/pip-req-build-9xhx35jc\n",
      "Requirement already satisfied: pandas in /home/paredes/miniconda/envs/covi-contacts/lib/python3.8/site-packages (from covicontact==0.0.1) (1.2.4)\n",
      "Requirement already satisfied: PyYAML in /home/paredes/miniconda/envs/covi-contacts/lib/python3.8/site-packages (from covicontact==0.0.1) (5.4.1)\n",
      "Requirement already satisfied: pytz>=2017.3 in /home/paredes/miniconda/envs/covi-contacts/lib/python3.8/site-packages (from pandas->covicontact==0.0.1) (2021.1)\n",
      "Requirement already satisfied: python-dateutil>=2.7.3 in /home/paredes/miniconda/envs/covi-contacts/lib/python3.8/site-packages (from pandas->covicontact==0.0.1) (2.8.1)\n",
      "Requirement already satisfied: numpy>=1.16.5 in /home/paredes/miniconda/envs/covi-contacts/lib/python3.8/site-packages (from pandas->covicontact==0.0.1) (1.20.3)\n",
      "Requirement already satisfied: six>=1.5 in /home/paredes/miniconda/envs/covi-contacts/lib/python3.8/site-packages (from python-dateutil>=2.7.3->pandas->covicontact==0.0.1) (1.16.0)\n"
     ]
    }
   ],
   "source": [
    "!pip install git+https://github.com/QuMuLab/covi-contacts"
   ]
  },
  {
   "cell_type": "code",
   "execution_count": 5,
   "metadata": {},
   "outputs": [],
   "source": [
    "import numpy as np\n",
    "import pandas as pd\n",
    "import seaborn as sns\n",
    "import covicontact "
   ]
  },
  {
   "cell_type": "markdown",
   "metadata": {},
   "source": [
    "## Demographics"
   ]
  },
  {
   "cell_type": "code",
   "execution_count": 6,
   "metadata": {},
   "outputs": [
    {
     "data": {
      "text/plain": [
       "(193363,\n",
       " 43.1,\n",
       " 44.5,\n",
       " [[0, 4, 0.047],\n",
       "  [5, 9, 0.051],\n",
       "  [10, 14, 0.05],\n",
       "  [15, 19, 0.055],\n",
       "  [20, 24, 0.066],\n",
       "  [25, 29, 0.063],\n",
       "  [30, 34, 0.061],\n",
       "  [35, 39, 0.057],\n",
       "  [40, 44, 0.056],\n",
       "  [45, 49, 0.064],\n",
       "  [50, 54, 0.079],\n",
       "  [55, 59, 0.078],\n",
       "  [60, 64, 0.072],\n",
       "  [65, 69, 0.066],\n",
       "  [70, 74, 0.049],\n",
       "  [75, 110, 0.086]])"
      ]
     },
     "execution_count": 6,
     "metadata": {},
     "output_type": "execute_result"
    }
   ],
   "source": [
    "a_1 = POPULATION_SIZE_REGION = 193363\n",
    "\n",
    "age_0_4 = 0.047\n",
    "age_5_9 = 0.051\n",
    "age_10_14 = 0.050\n",
    "age_15_19 = 0.055\n",
    "age_20_24 = 0.066\n",
    "age_25_29 = 0.063\n",
    "age_30_34 = 0.061\n",
    "age_35_29 = 0.057\n",
    "age_40_44 = 0.056\n",
    "age_45_49 = 0.064\n",
    "age_50_54 = 0.079\n",
    "age_55_59 = 0.078\n",
    "age_60_64 = 0.072\n",
    "age_65_69 = 0.066\n",
    "age_70_74 = 0.049\n",
    "\n",
    "age_75_110 = round(1.0 - (\n",
    "      age_0_4 \n",
    "    + age_5_9 \n",
    "    + age_10_14 \n",
    "    + age_15_19\n",
    "    + age_20_24\n",
    "    + age_25_29\n",
    "    + age_30_34\n",
    "    + age_35_29\n",
    "    + age_40_44\n",
    "    + age_45_49\n",
    "    + age_50_54\n",
    "    + age_55_59\n",
    "    + age_60_64\n",
    "    + age_65_69\n",
    "    + age_70_74\n",
    "), 3)\n",
    "\n",
    "P_AGE_REGION = [\n",
    "    [0, 4, age_0_4],\n",
    "    [5, 9, age_5_9],\n",
    "    [10, 14, age_10_14],\n",
    "    [15, 19, age_15_19],\n",
    "    [20, 24, age_20_24],\n",
    "    [25, 29, age_25_29],\n",
    "    [30, 34, age_30_34],\n",
    "    [35, 39, age_35_29],\n",
    "    [40, 44, age_40_44],\n",
    "    [45, 49, age_45_49],\n",
    "    [50, 54, age_50_54],\n",
    "    [55, 59, age_55_59],\n",
    "    [60, 64, age_60_64],\n",
    "    [65, 69, age_65_69],\n",
    "    [70, 74, age_70_74],\n",
    "    [75, 110, age_75_110] \n",
    "]\n",
    "\n",
    "AVERAGE_AGE_REGION = 43.1\n",
    "MEDIAN_AGE_REGION = 44.5\n",
    "\n",
    "POPULATION_SIZE_REGION, \\\n",
    "AVERAGE_AGE_REGION, \\\n",
    "MEDIAN_AGE_REGION, \\\n",
    "P_AGE_REGION"
   ]
  },
  {
   "cell_type": "markdown",
   "metadata": {},
   "source": [
    "Data source: https://www12.statcan.gc.ca/census-recensement/2016/dp-pd/prof/details/page.cfm?Lang=E&Geo1=HR&Code1=3541&Geo2=PR&Code2=01&SearchText=kingston&SearchType=Contains&SearchPR=01&B1=All&TABID=1&type=0"
   ]
  },
  {
   "cell_type": "code",
   "execution_count": 7,
   "metadata": {},
   "outputs": [],
   "source": [
    "assert pd.DataFrame(P_AGE_REGION, columns=(\"min\", \"max\", \"p\"))[\"p\"].sum() == 1."
   ]
  },
  {
   "cell_type": "code",
   "execution_count": 8,
   "metadata": {},
   "outputs": [
    {
     "data": {
      "text/plain": [
       "<AxesSubplot:title={'center':'Age'}, ylabel='Density'>"
      ]
     },
     "execution_count": 8,
     "metadata": {},
     "output_type": "execute_result"
    },
    {
     "data": {
      "image/png": "[encoded data removed]",
      "text/plain": [
       "<Figure size 432x288 with 1 Axes>"
      ]
     },
     "metadata": {
      "needs_background": "light"
     },
     "output_type": "display_data"
    }
   ],
   "source": [
    "#from numpy.random import default_rng\n",
    "df = pd.DataFrame(P_AGE_REGION, columns=(\"min\", \"max\", \"p\"))\n",
    "rng = np.random.default_rng()\n",
    "\n",
    "age_df = pd.DataFrame(\n",
    "    [rng.integers(df[\"min\"][idx], \n",
    "              df[\"max\"][idx]) for idx in \n",
    "    rng.choice(range(len(df)), \n",
    "           size=10000, \n",
    "           p=df[\"p\"])])\n",
    "\n",
    "age_df.plot.kde(title=\"Age\", \n",
    "                         xlim=(0,110),\n",
    "                         ylim=(0,0.016),\n",
    "                        legend=False)"
   ]
  },
  {
   "cell_type": "markdown",
   "metadata": {},
   "source": [
    "### Household composition"
   ]
  },
  {
   "cell_type": "code",
   "execution_count": 9,
   "metadata": {},
   "outputs": [
    {
     "data": {
      "text/plain": [
       "(2.3, [0.286, 0.385, 0.148, 0.122, 0.06])"
      ]
     },
     "execution_count": 9,
     "metadata": {},
     "output_type": "execute_result"
    }
   ],
   "source": [
    "A_1 = fraction_of_all_households_that_are_1_person_households = 0.286\n",
    "A_2 = fraction_of_all_households_that_are_2_person_households = 0.385\n",
    "A_3 = fraction_of_all_households_that_are_3_person_households = 0.148\n",
    "A_4 = fraction_of_all_households_that_are_4_person_households = 0.122\n",
    "A_5 = fraction_of_all_households_that_are_5_person_households = 0.060\n",
    "\n",
    "AVG_HOUSEHOLD_SIZE = 2.3\n",
    "\n",
    "P_HOUSEHOLD_SIZE = [\n",
    "    fraction_of_all_households_that_are_1_person_households,\n",
    "    fraction_of_all_households_that_are_2_person_households,\n",
    "    fraction_of_all_households_that_are_3_person_households,\n",
    "    fraction_of_all_households_that_are_4_person_households,\n",
    "    fraction_of_all_households_that_are_5_person_households\n",
    "]\n",
    "\n",
    "AVG_HOUSEHOLD_SIZE, \\\n",
    "P_HOUSEHOLD_SIZE"
   ]
  },
  {
   "cell_type": "markdown",
   "metadata": {},
   "source": [
    "Data source: https://www12.statcan.gc.ca/census-recensement/2016/dp-pd/prof/details/page.cfm?Lang=E&Geo1=HR&Code1=3541&Geo2=PR&Code2=01&SearchText=kingston&SearchType=Contains&SearchPR=01&B1=All&TABID=1&type=0"
   ]
  },
  {
   "cell_type": "code",
   "execution_count": 10,
   "metadata": {},
   "outputs": [
    {
     "data": {
      "text/plain": [
       "(23240,\n",
       " [0.3077473662314278, 0.1134121850273629, 0.0],\n",
       " [0.10256282991680643, 0.02890835217517334, 0.0],\n",
       " [0.10167968270167894, 0.007241807164045461, 0.0],\n",
       " [0.038681848022584286, 0.0019429238732804894, 0.0])"
      ]
     },
     "execution_count": 10,
     "metadata": {},
     "output_type": "execute_result"
    }
   ],
   "source": [
    "N_HOUSESIZE_1 = 23240\n",
    "    \n",
    "B_1 = total_private_households = 81350 \n",
    "B_2 = one_census_family_households = 53155\n",
    "\n",
    "C_1 = number_of_at_least_one_census_family_households = 55490\n",
    "C_2 = two_person_families_in_private_households = 31630\n",
    "C_2_a = fraction_of_all_households_that_are_2_person_families = (C_2 / C_1) * (B_2 / B_1)\n",
    "fraction_of_all_households_that_are_size_2_and_not_2_person_families = C_2_a - A_2\n",
    "\n",
    "C_2_1 = couples_without_children = 26135\n",
    "fraction_of_all_households_that_are_couples_without_children = (C_2_1 / C_1) * (B_2 / B_1)\n",
    "\n",
    "C_2_2 = single_parent_with_a_child = 5490\n",
    "fraction_of_all_households_that_are_single_parent_with_a_child = (C_2_2 / C_2) * (B_2 / B_1)\n",
    "\n",
    "P_FAMILY_TYPE_SIZE_2 = [\n",
    "    fraction_of_all_households_that_are_couples_without_children,\n",
    "    fraction_of_all_households_that_are_single_parent_with_a_child,\n",
    "    0. #fraction_of_all_households_that_are_size_2_and_not_2_person_families,\n",
    "]\n",
    "\n",
    "\n",
    "C_3 = three_person_families_in_private_households = 11165\n",
    "C_3_a = fraction_of_all_households_that_are_3_person_families = (C_3 / C_1) * (B_2 / B_1)\n",
    "fraction_of_all_households_that_are_of_size_3_and_not_3_person_families = (C_3_a - A_3)\n",
    "\n",
    "C_3_1 = couples_with_1_child = 8710\n",
    "fraction_of_all_households_that_are_couples_with_1_child = (C_3_1 / C_1) * (B_2 / B_1)\n",
    "\n",
    "C_3_2 = single_parent_with_2_children = 2455\n",
    "fraction_of_all_households_that_are_single_parent_with_2_children = (C_3_2 / C_1) * (B_2 / B_1)\n",
    "\n",
    "P_FAMILY_TYPE_SIZE_3 = [\n",
    "    fraction_of_all_households_that_are_couples_with_1_child,\n",
    "    fraction_of_all_households_that_are_single_parent_with_2_children,\n",
    "    0. #fraction_of_all_households_that_are_of_size_3_and_not_3_person_families,\n",
    "]\n",
    "\n",
    "\n",
    "C_4 = four_person_families_in_private_households = 9250\n",
    "C_4_a = fraction_of_all_households_that_are_4_person_families = (C_4 / C_1) * (B_2 / B_1)\n",
    "fraction_of_all_households_that_are_of_size_4_and_not_4_person_families = (C_4_a - A_4)\n",
    "\n",
    "C_4_1 = couples_of_2_children = 8635\n",
    "C_4_1_a = fraction_of_all_households_that_are_couples_with_2_children = (C_4_1 / C_1) * (B_2 / B_1)\n",
    "\n",
    "C_4_2 = single_parent_with_3_or_more_children = 780\n",
    "C_4_3 = single_parent_with_3_children = (C_4 - C_4_1)\n",
    "fraction_of_all_households_that_are_single_parent_with_3_children = (C_4_3 / C_1) * (B_2 / B_1)\n",
    "\n",
    "P_FAMILY_TYPE_SIZE_4 = [\n",
    "    fraction_of_all_households_that_are_couples_with_2_children,\n",
    "    fraction_of_all_households_that_are_single_parent_with_3_children,\n",
    "    0. #fraction_of_all_households_that_are_of_size_4_and_not_4_person_families,\n",
    "]\n",
    "\n",
    "\n",
    "C_5 = five_person_families_in_private_households = 3450\n",
    "C_5_a = fraction_of_all_households_that_are_5_person_families = (C_5 / C_1) * (B_2 / B_1)\n",
    "fraction_of_all_households_that_are_of_size_more_than_5_and_not_more_than_5_person_families = (C_5_a - A_5)\n",
    "\n",
    "C_5_1 = couples_with_3_or_more_children = 3285\n",
    "fraction_of_all_households_that_are_couples_with_3_or_more_children = (C_5_1 / C_1) * (B_2 / B_1)\n",
    "\n",
    "C_5_2 = single_parent_with_4_or_more_children = (C_4_2 - C_4_3)\n",
    "fraction_of_all_households_that_are_single_parent_with_4_or_more_children = (C_5_2 / C_1) * (B_2 / B_1)\n",
    "\n",
    "P_FAMILY_TYPE_SIZE_MORE_THAN_5 = [\n",
    "    fraction_of_all_households_that_are_couples_with_3_or_more_children,\n",
    "    fraction_of_all_households_that_are_single_parent_with_4_or_more_children,\n",
    "    0. #fraction_of_all_households_that_are_of_size_more_than_5_and_not_more_than_5_person_families,\n",
    "]\n",
    "\n",
    "\n",
    "N_HOUSESIZE_1, \\\n",
    "P_FAMILY_TYPE_SIZE_2, \\\n",
    "P_FAMILY_TYPE_SIZE_3, \\\n",
    "P_FAMILY_TYPE_SIZE_4, \\\n",
    "P_FAMILY_TYPE_SIZE_MORE_THAN_5"
   ]
  },
  {
   "cell_type": "markdown",
   "metadata": {},
   "source": [
    "Data source: https://www12.statcan.gc.ca/census-recensement/2016/dp-pd/prof/details/page.cfm?Lang=E&Geo1=HR&Code1=3541&Geo2=PR&Code2=01&SearchText=kingston&SearchType=Contains&SearchPR=01&B1=All&TABID=1&type=0"
   ]
  },
  {
   "cell_type": "code",
   "execution_count": 11,
   "metadata": {},
   "outputs": [
    {
     "data": {
      "text/plain": [
       "(0.027690446805016523, 0.16609880749574107)"
      ]
     },
     "execution_count": 11,
     "metadata": {},
     "output_type": "execute_result"
    }
   ],
   "source": [
    "D_1 = total_private_households = 53520\n",
    "D_2 = multi_generational_households = 975\n",
    "D_3 = scaled_multi_generational_households = B_1 * D_2 / D_1\n",
    "other_census_family_households = 1760\n",
    "non_census_family_households = 3135\n",
    "D_4 = total_non_one_census_family_households = other_census_family_households + non_census_family_households\n",
    "D_5 = scaled_D_4 = B_1 * D_4 / D_1\n",
    "\n",
    "P_MULTIGENERATIONAL_FAMILY = D_3 / D_1\n",
    "P_MULTIGENERATIONAL_FAMILY_GIVEN_OTHER_HOUSEHOLDS = D_3 / (D_3 + D_5)\n",
    "\n",
    "P_MULTIGENERATIONAL_FAMILY, \\\n",
    "P_MULTIGENERATIONAL_FAMILY_GIVEN_OTHER_HOUSEHOLDS"
   ]
  },
  {
   "cell_type": "markdown",
   "metadata": {},
   "source": [
    "Data source: https://www12.statcan.gc.ca/census-recensement/2016/dp-pd/hlt-fst/fam/Table.cfm?Lang=E&T=24&Geo=00&SO=18D"
   ]
  },
  {
   "cell_type": "code",
   "execution_count": 12,
   "metadata": {},
   "outputs": [],
   "source": [
    "E = total_population = 193363"
   ]
  },
  {
   "cell_type": "markdown",
   "metadata": {},
   "source": [
    "Data source: https://www12.statcan.gc.ca/census-recensement/2016/dp-pd/prof/details/page.cfm?Lang=E&Geo1=HR&Code1=3541&Geo2=PR&Code2=01&SearchText=KINGSTON&SearchType=Contains&SearchPR=01&B1=All&TABID=1&type=0"
   ]
  },
  {
   "cell_type": "code",
   "execution_count": 13,
   "metadata": {},
   "outputs": [],
   "source": [
    "E_1 = N_COLLECTIVE_RESIDENTS = total_population_living_in_collectives_for_seinors_2011 = 2380\n",
    "E_2 = N_COLLECTIVE_RESIDENTS_65_79 = total_population_aged_0_79_living_in_collectives_for_seniors = 570\n",
    "E_3 = N_COLLECTIVE_RESIDENTS_80_above = total_population_aged_80_or_agove_living_in_collectives_for_seniors = 1810"
   ]
  },
  {
   "cell_type": "markdown",
   "metadata": {},
   "source": [
    "Data source: https://www12.statcan.gc.ca/census-recensement/2016/dp-pd/covid19/table2-eng.cfm?geo=A0002&S=1&O=A"
   ]
  },
  {
   "cell_type": "markdown",
   "metadata": {},
   "source": [
    "Used in prioritizing the allocation of houses so that no housing only has children as residents"
   ]
  },
  {
   "cell_type": "code",
   "execution_count": 14,
   "metadata": {},
   "outputs": [],
   "source": [
    "MAX_AGE_CHILDREN = 14"
   ]
  },
  {
   "cell_type": "markdown",
   "metadata": {},
   "source": [
    "Data source: None"
   ]
  },
  {
   "cell_type": "markdown",
   "metadata": {},
   "source": [
    "Used in expanding the search for census family households and restricting the age of parents in multigenerational family"
   ]
  },
  {
   "cell_type": "code",
   "execution_count": 15,
   "metadata": {},
   "outputs": [],
   "source": [
    "MAX_AGE_WITH_PARENT = 54"
   ]
  },
  {
   "cell_type": "markdown",
   "metadata": {},
   "source": [
    "Data source: None"
   ]
  },
  {
   "cell_type": "markdown",
   "metadata": {},
   "source": [
    "Used in sampling for parents"
   ]
  },
  {
   "cell_type": "code",
   "execution_count": 16,
   "metadata": {},
   "outputs": [],
   "source": [
    "AGE_DIFFERENCE_BETWEEN_PARENT_AND_KID = 20 "
   ]
  },
  {
   "cell_type": "markdown",
   "metadata": {},
   "source": [
    "Data source: None"
   ]
  },
  {
   "cell_type": "markdown",
   "metadata": {},
   "source": [
    "## Location data\n",
    "\n",
    "### Senior residences"
   ]
  },
  {
   "cell_type": "code",
   "execution_count": 17,
   "metadata": {},
   "outputs": [],
   "source": [
    "number_of_private_senior_residences = 203\n",
    "number_of_public_senior_residences = 60 \n",
    "F_1 = number_of_private_senior_residences + number_of_public_senior_residences\n",
    "N_RESIDENTS_PER_COLLECTIVE = E_1 / F_1"
   ]
  },
  {
   "cell_type": "markdown",
   "metadata": {},
   "source": [
    "Data source: ?"
   ]
  },
  {
   "cell_type": "markdown",
   "metadata": {},
   "source": [
    "### Workplaces\n",
    "\n",
    "this type of location is used to model uniform interactions with colleagues\n",
    "We use NAICS code 54 - Professional, Scientific and Technical Services to represent a typical workplace distribution."
   ]
  },
  {
   "cell_type": "code",
   "execution_count": 18,
   "metadata": {},
   "outputs": [],
   "source": [
    "G_1 = population_of_ontario = 14789778"
   ]
  },
  {
   "cell_type": "markdown",
   "metadata": {},
   "source": [
    "Data source: https://www150.statcan.gc.ca/t1/tbl1/en/tv.action?pid=1710000901"
   ]
  },
  {
   "cell_type": "code",
   "execution_count": 20,
   "metadata": {},
   "outputs": [
    {
     "data": {
      "text/plain": [
       "(0.7722717406364015,\n",
       " 0.21841469234440186,\n",
       " 0.008112809618374668,\n",
       " 0.001200757400822057,\n",
       " 0.21334846469491253)"
      ]
     },
     "execution_count": 20,
     "metadata": {},
     "output_type": "execute_result"
    }
   ],
   "source": [
    "G_2 = number_of_employers = 64959\n",
    "G_2_1 = number_of_employers_with_1_4_employees_in_ontario = 50166\n",
    "G_2_1_a = number_of_employers_with_1_4_employees_in_kingston = G_2_1 * a_1 / G_1\n",
    "G_2_2 = number_of_employers_with_5_99_employees = 14188\n",
    "G_2_1_b = number_of_employers_with_5_99_employees_in_kingston = G_2_2 * a_1 / G_1\n",
    "G_2_3 = number_of_employers_with_100_499_employees = 527\n",
    "G_2_1_c = number_of_employers_with_100_499_employees_in_kingston = G_2_3 * a_1 / G_1\n",
    "G_2_4 = number_of_employers_wtih_500_or_more_employees = 78\n",
    "G_2_1_d = number_of_employers_with_500_or_more_employees_in_kingston = G_2_4 * a_1 / G_1\n",
    "G_2_a = number_of_employers_in_montreal = G_2 * a_1 / G_1\n",
    "P_EMPLOYEES_1_4_PER_WORKPLACE = G_2_1_a / G_2_a\n",
    "P_EMPLOYEES_5_99_PER_WORKPLACE = G_2_1_b / G_2_a\n",
    "P_EMPLOYEES_100_499_PER_WORKPLACE = G_2_1_c / G_2_a\n",
    "P_EMPLOYEES_500_above_PER_WORKPLACE = G_2_1_d / G_2_a\n",
    "AVERAGE_N_EMPLOYEES_PER_WORKPLACE = ((1+4)/2 * number_of_employers_with_1_4_employees_in_kingston \\\n",
    "    + (5+99)/2 * number_of_employers_with_5_99_employees_in_kingston \\\n",
    "    + (100+499)/2 * number_of_employers_with_100_499_employees_in_kingston \\\n",
    "    + 500 * number_of_employers_with_500_or_more_employees_in_kingston \\\n",
    "                                    ) / number_of_employers\n",
    "P_EMPLOYEES_1_4_PER_WORKPLACE, \\\n",
    "P_EMPLOYEES_5_99_PER_WORKPLACE, \\\n",
    "P_EMPLOYEES_100_499_PER_WORKPLACE, \\\n",
    "P_EMPLOYEES_500_above_PER_WORKPLACE, \\\n",
    "AVERAGE_N_EMPLOYEES_PER_WORKPLACE"
   ]
  },
  {
   "cell_type": "markdown",
   "metadata": {},
   "source": [
    "Data source: https://www.ic.gc.ca/app/scr/app/cis/businesses-entreprises/54"
   ]
  },
  {
   "cell_type": "markdown",
   "metadata": {},
   "source": [
    "### Stores\n",
    "\n",
    "There are two types of interactions at these locations - among the workers (like a normal workplace above), and one to many (customer facing)\n",
    "We use NAICS code 445 - Food and Beverage Stores  to represent a typical store"
   ]
  },
  {
   "cell_type": "code",
   "execution_count": 21,
   "metadata": {},
   "outputs": [
    {
     "data": {
      "text/plain": [
       "(0.36118266323216486,\n",
       " 0.5777802665472058,\n",
       " 0.05980512935379102,\n",
       " 0.0012319408668383918,\n",
       " 0.6468427689131135,\n",
       " 0.6037277909107223)"
      ]
     },
     "execution_count": 21,
     "metadata": {},
     "output_type": "execute_result"
    }
   ],
   "source": [
    "GS_2 = number_of_employers = 8929\n",
    "GS_2_1 = number_of_employers_with_1_4_employees_in_ontario = 3225\n",
    "GS_2_1_a = number_of_employers_with_1_4_employees_in_kingston = GS_2_1 * a_1 / G_1\n",
    "GS_2_2 = number_of_employers_with_5_99_employees = 5159\n",
    "GS_2_1_b = number_of_employers_with_5_99_employees_in_kingston = GS_2_2 * a_1 / G_1\n",
    "GS_2_3 = number_of_employers_with_100_499_employees = 534\n",
    "GS_2_1_c = number_of_employers_with_100_499_employees_in_kingston = GS_2_3 * a_1 / G_1\n",
    "GS_2_4 = number_of_employers_wtih_500_or_more_employees = 11\n",
    "GS_2_1_d = number_of_employers_with_500_or_more_employees_in_kingston = GS_2_4 * a_1 / G_1\n",
    "GS_2_a = number_of_employers_in_montreal = GS_2 * a_1 / G_1\n",
    "P_EMPLOYEES_1_4_PER_STORE = GS_2_1_a / GS_2_a\n",
    "P_EMPLOYEES_5_99_PER_STORE = GS_2_1_b / GS_2_a\n",
    "P_EMPLOYEES_100_499_PER_STORE = GS_2_1_c / GS_2_a\n",
    "P_EMPLOYEES_500_above_PER_STORE = GS_2_1_d / GS_2_a\n",
    "AVERAGE_N_EMPLOYEES_PER_STORE = ((1+4)/2 * number_of_employers_with_1_4_employees_in_kingston \\\n",
    "    + (5+99)/2 * number_of_employers_with_5_99_employees_in_kingston \\\n",
    "    + (100+499)/2 * number_of_employers_with_100_499_employees_in_kingston \\\n",
    "    + 500 * number_of_employers_with_500_or_more_employees_in_kingston \\\n",
    "                                    ) / number_of_employers\n",
    "N_STORE_PER_1K_PEOPLE = 1000 * GS_2_a / a_1\n",
    "P_EMPLOYEES_1_4_PER_STORE, \\\n",
    "P_EMPLOYEES_5_99_PER_STORE, \\\n",
    "P_EMPLOYEES_100_499_PER_STORE, \\\n",
    "P_EMPLOYEES_500_above_PER_STORE, \\\n",
    "AVERAGE_N_EMPLOYEES_PER_STORE, \\\n",
    "N_STORE_PER_1K_PEOPLE"
   ]
  },
  {
   "cell_type": "markdown",
   "metadata": {},
   "source": [
    "Data source: https://www.ic.gc.ca/app/scr/app/cis/businesses-entreprises/445"
   ]
  },
  {
   "cell_type": "markdown",
   "metadata": {},
   "source": [
    "### Leisure activites\n",
    "\n",
    "There are two types of interactions at these locations - among the workers (like a normal workplace above), and one to many (customer facing)\n",
    "We use NAICS code 722 - Food Services and Drinking Places to represent a typical entertainment place\n"
   ]
  },
  {
   "cell_type": "code",
   "execution_count": 22,
   "metadata": {},
   "outputs": [
    {
     "data": {
      "text/plain": [
       "(0.2496551724137931,\n",
       " 0.7358257713248639,\n",
       " 0.013901996370235934,\n",
       " 0.000617059891107078,\n",
       " 0.5668831403876288,\n",
       " 1.8627730585273155)"
      ]
     },
     "execution_count": 22,
     "metadata": {},
     "output_type": "execute_result"
    }
   ],
   "source": [
    "GM_2 = number_of_employers = 27550\n",
    "GM_2_1 = number_of_employers_with_1_4_employees_in_ontario = 6878\n",
    "GM_2_1_a = number_of_employers_with_1_4_employees_in_kingston = GM_2_1 * a_1 / G_1\n",
    "GM_2_2 = number_of_employers_with_5_99_employees = 20272\n",
    "GM_2_1_b = number_of_employers_with_5_99_employees_in_kingston = GM_2_2 * a_1 / G_1\n",
    "GM_2_3 = number_of_employers_with_100_499_employees = 383\n",
    "GM_2_1_c = number_of_employers_with_100_499_employees_in_kingston = GM_2_3 * a_1 / G_1\n",
    "GM_2_4 = number_of_employers_wtih_500_or_more_employees = 17\n",
    "GM_2_1_d = number_of_employers_with_500_or_more_employees_in_kingston = GM_2_4 * a_1 / G_1\n",
    "GM_2_a = number_of_employers_in_montreal = GM_2 * a_1 / G_1\n",
    "P_EMPLOYEES_1_4_PER_MISC = GM_2_1_a / GM_2_a\n",
    "P_EMPLOYEES_5_99_PER_MISC = GM_2_1_b / GM_2_a\n",
    "P_EMPLOYEES_100_499_PER_MISC = GM_2_1_c / GM_2_a\n",
    "P_EMPLOYEES_500_above_PER_MISC = GM_2_1_d / GM_2_a\n",
    "AVERAGE_N_EMPLOYEES_PER_MISC = ((1+4)/2 * number_of_employers_with_1_4_employees_in_kingston \\\n",
    "    + (5+99)/2 * number_of_employers_with_5_99_employees_in_kingston \\\n",
    "    + (100+499)/2 * number_of_employers_with_100_499_employees_in_kingston \\\n",
    "    + 500 * number_of_employers_with_500_or_more_employees_in_kingston \\\n",
    "                                    ) / number_of_employers\n",
    "N_MISC_PER_1K_PEOPLE = 1000 * GM_2_a / a_1\n",
    "P_EMPLOYEES_1_4_PER_MISC, \\\n",
    "P_EMPLOYEES_5_99_PER_MISC, \\\n",
    "P_EMPLOYEES_100_499_PER_MISC, \\\n",
    "P_EMPLOYEES_500_above_PER_MISC, \\\n",
    "AVERAGE_N_EMPLOYEES_PER_MISC, \\\n",
    "N_MISC_PER_1K_PEOPLE"
   ]
  },
  {
   "cell_type": "markdown",
   "metadata": {},
   "source": [
    "Data source: https://www.ic.gc.ca/app/scr/app/cis/businesses-entreprises/722"
   ]
  },
  {
   "cell_type": "markdown",
   "metadata": {},
   "source": [
    "## Schools\n",
    "\n",
    "(assumption) 100% enrolment in schools for children aged 5-15 yo\n",
    "Allocation of children to schools is done in the age groups of 5-9 and 10-14 for simplification\n",
    "preschools & primary schools are for children aged 5-12 yo\n",
    "secondary schools are for children aged 13-17 yo"
   ]
  },
  {
   "cell_type": "code",
   "execution_count": 23,
   "metadata": {},
   "outputs": [
    {
     "data": {
      "text/plain": [
       "(5.6090030534351145, 38.116159712230214, 44.0939925233645)"
      ]
     },
     "execution_count": 23,
     "metadata": {},
     "output_type": "execute_result"
    }
   ],
   "source": [
    "H_1 = preschools = 393\n",
    "H_2 = population_aged_4_5 = 0.057 / 5 * a_1\n",
    "N_STUDENTS_PER_SCHOOL_4_5 = H_2 / H_1\n",
    "H_3 = primary_schools = 417\n",
    "H_4 = population_aged_5_12 = (0.054 + 3 * 0.047 / 5) * a_1\n",
    "N_STUDENTS_PER_SCHOOL_5_12 = H_4 / H_3\n",
    "H_5 = secondary_schools = 214\n",
    "H_6 = population_aged_12_17_in_kingston = (2 * 0.047 / 5 + 3 * 0.05 / 5) * a_1\n",
    "N_STUDENTS_PER_SCHOOL_12_17 = H_6 / H_5\n",
    "universities = 8\n",
    "college = 131\n",
    "adult_education = 43\n",
    "H_9 = total_schools_for_17_29_yo = 182\n",
    "\n",
    "N_STUDENTS_PER_SCHOOL_4_5, \\\n",
    "N_STUDENTS_PER_SCHOOL_5_12, \\\n",
    "N_STUDENTS_PER_SCHOOL_12_17"
   ]
  },
  {
   "cell_type": "markdown",
   "metadata": {},
   "source": [
    "Data source: ?"
   ]
  },
  {
   "cell_type": "code",
   "execution_count": 24,
   "metadata": {},
   "outputs": [],
   "source": [
    "N_STUDENTS_PER_SCHOOL_2_4 = 15 "
   ]
  },
  {
   "cell_type": "markdown",
   "metadata": {},
   "source": [
    "Data source: None"
   ]
  },
  {
   "cell_type": "code",
   "execution_count": 25,
   "metadata": {},
   "outputs": [
    {
     "data": {
      "text/plain": [
       "(5.6090030534351145, 38.116159712230214, 44.0939925233645, 76.03356200132178)"
      ]
     },
     "execution_count": 25,
     "metadata": {},
     "output_type": "execute_result"
    }
   ],
   "source": [
    "census_subdivision_age_15_19 = 0.055\n",
    "census_subdivision_age_20_24 = 0.077\n",
    "census_subdivision_age_25_29 = 0.074\n",
    "province_age_15_19 = 0.06\n",
    "province_age_20_24 = 0.067\n",
    "province_age_25_29 = 0.065\n",
    "H_8_a = P_SCHOOL_FOR_AGE_17_19 = proportion_of_population_aged_15_19_in_school_census_division = 0.812 \n",
    "H_8_b = P_SCHOOL_FOR_AGE_19_24 = proportion_of_population_aged_20_24_in_school_census_division = 0.465\n",
    "H_8_c = P_SCHOOL_FOR_AGE_25_29 = proportion_of_population_aged_25_29_in_school_census_divisioncensus_division = 0.161\n",
    "H_8_d = proportion_of_population_aged_15_19_in_school_province = H_8_a * census_subdivision_age_15_19 / province_age_15_19\n",
    "H_8_e = proportion_of_population_aged_20_24_in_school_province = H_8_b * census_subdivision_age_20_24 / province_age_20_24\n",
    "H_8_f = proportion_of_population_aged_25_29_in_school_province = H_8_c * census_subdivision_age_25_29 / province_age_25_29\n",
    "H_8_e = proportion_of_population_aged_15_29_in_school_province = (H_8_d * 0.05/2 + H_8_e * 0.072 + H_8_f * 0.079) * a_1 \n",
    "N_STUDENTS_PER_SCHOOL_17_29 = H_8_e / H_9\n",
    "N_STUDENTS_PER_SCHOOL_4_5, \\\n",
    "N_STUDENTS_PER_SCHOOL_5_12, \\\n",
    "N_STUDENTS_PER_SCHOOL_12_17, \\\n",
    "N_STUDENTS_PER_SCHOOL_17_29"
   ]
  },
  {
   "cell_type": "markdown",
   "metadata": {},
   "source": [
    "Data source: https://www12.statcan.gc.ca/census-recensement/2016/dp-pd/prof/details/page.cfm?Lang=E&Geo1=PR&Code1=24&Geo2=CSD&Code2=2466023&SearchText=Montreal&SearchType=Begins&SearchPR=01&B1=All&TABID=1&type=1\n"
   ]
  },
  {
   "cell_type": "code",
   "execution_count": 26,
   "metadata": {},
   "outputs": [],
   "source": [
    "STUDENT_TEACHER_RATIO_SCHOOL_2_4 = 5\n",
    "STUDENT_TEACHER_RATIO_SCHOOL_4_5 = 5\n",
    "STUDENT_TEACHER_RATIO_SCHOOL_5_12 = 5\n",
    "STUDENT_TEACHER_RATIO_SCHOOL_12_17 = 10\n",
    "STUDENT_TEACHER_RATIO_SCHOOL_17_29 = 15 \n",
    "P_STUDENT_4_5: 1 # proportion of children 4-5 yo who are enrolled in a preschool.\n",
    "P_STUDENT_2_4: 0.5 #"
   ]
  },
  {
   "cell_type": "markdown",
   "metadata": {},
   "source": [
    "Data source: None"
   ]
  },
  {
   "cell_type": "markdown",
   "metadata": {},
   "source": [
    "## Hopsitals\n",
    "in modeling interactions between patients, doctors, and nurses we only care about number of wards or clinics."
   ]
  },
  {
   "cell_type": "code",
   "execution_count": 27,
   "metadata": {},
   "outputs": [],
   "source": [
    "I_1 = number_of_hospitals_in_province = 170\n",
    "I_2 = number_of_hospitals_in_census_division = a_1 * I_1 / G_1\n",
    "N_HOSPITALS_PER_100K_PEOPLE = I_2 * a_1 / 100000"
   ]
  },
  {
   "cell_type": "markdown",
   "metadata": {},
   "source": [
    "Data source: None"
   ]
  },
  {
   "cell_type": "code",
   "execution_count": 28,
   "metadata": {},
   "outputs": [],
   "source": [
    "HOSPITAL_BEDS_OCCUPANCY = 0.66\n",
    "HOSPITAL_BEDS_PER_1K_PEOPOLE = 2.8"
   ]
  },
  {
   "cell_type": "markdown",
   "metadata": {},
   "source": [
    "Data source: # https://www.cdc.gov/nchs/data/hus/2017/089.pdf"
   ]
  },
  {
   "cell_type": "code",
   "execution_count": 29,
   "metadata": {},
   "outputs": [],
   "source": [
    "ICU_BEDS_PER_1K_PEOPLE = 0.32\n",
    "ICU_BEDS_OCCUPANCY = 0.68"
   ]
  },
  {
   "cell_type": "markdown",
   "metadata": {},
   "source": [
    "Data source: https://www.sccm.org/Communications/Critical-Care-Statistics"
   ]
  },
  {
   "cell_type": "markdown",
   "metadata": {},
   "source": [
    "## Occupations"
   ]
  },
  {
   "cell_type": "code",
   "execution_count": 30,
   "metadata": {},
   "outputs": [],
   "source": [
    "O_1 = total_labor_force = 85200"
   ]
  },
  {
   "cell_type": "markdown",
   "metadata": {},
   "source": [
    "Data source: Statistics Canada. Table 14-10-0385-01  Labour force characteristics, annual (x 1,000), https://doi.org/10.25318/1410038501-eng"
   ]
  },
  {
   "cell_type": "code",
   "execution_count": 31,
   "metadata": {},
   "outputs": [],
   "source": [
    "O_2 = total_labor_force_healthcare = 259490\n",
    "P_HEALTHCARE_WORKERS = O_2 / O_1"
   ]
  },
  {
   "cell_type": "markdown",
   "metadata": {},
   "source": [
    "Data soure: ?"
   ]
  },
  {
   "cell_type": "code",
   "execution_count": 32,
   "metadata": {},
   "outputs": [],
   "source": [
    "N_DOCTOR_PER_100K_PEOPLE = 127\n",
    "number_of_nurses_per_100K_people = 825\n",
    "NURSE_TO_DOCTOR_RATIO = number_of_nurses_per_100K_people / N_DOCTOR_PER_100K_PEOPLE\n",
    "RESIDENT_TO_STAFF_RATIO = 13"
   ]
  },
  {
   "cell_type": "markdown",
   "metadata": {},
   "source": [
    "Data source: https://www150.statcan.gc.ca/n1/pub/91-550-x/2008001/t022-eng.htm"
   ]
  },
  {
   "cell_type": "code",
   "execution_count": 33,
   "metadata": {},
   "outputs": [],
   "source": [
    "MIN_AGE_HEALTHCARE_WORKER = 30\n",
    "MAX_AGE_HEALTHCARE_WORKER = 65\n",
    "MIN_WORKING_AGE = 15\n",
    "MAX_WORKING_AGE = 65"
   ]
  },
  {
   "cell_type": "markdown",
   "metadata": {},
   "source": [
    "Data source: None"
   ]
  },
  {
   "cell_type": "markdown",
   "metadata": {},
   "source": [
    "## Mobility\n",
    "\n",
    "- CAUTION 1: Use an upper limit of one of the bins in utils.constants.AGE_BIN_WIDTH_5 to be consistent with household allocation\n",
    "- CAUTION 2: Too high a value of this parameter might break the mobility_planner."
   ]
  },
  {
   "cell_type": "code",
   "execution_count": 34,
   "metadata": {},
   "outputs": [],
   "source": [
    "MAX_AGE_CHILDREN_WITHOUT_PARENT_SUPERVISION = 14"
   ]
  },
  {
   "cell_type": "markdown",
   "metadata": {},
   "source": [
    "Data source: None"
   ]
  },
  {
   "cell_type": "markdown",
   "metadata": {},
   "source": [
    "### How often people go out to food stores?\n",
    "This is needed to decide the time when a human visits a store"
   ]
  },
  {
   "cell_type": "code",
   "execution_count": 35,
   "metadata": {},
   "outputs": [],
   "source": [
    "daily = 0.014\n",
    "every_other_day = 0.123\n",
    "weekly = 0.623\n",
    "every_10_days = 0.108\n",
    "every_15_days = 0.094\n",
    "every_30_days = 0.038\n",
    "P_GROCERY_SHOPPING_DAYS: [\n",
    "  [1, daily],\n",
    "  [2, every_other_day],\n",
    "  [7, weekly],\n",
    "  [10, every_10_days],\n",
    "  [15, every_15_days],\n",
    "  [30, every_30_days]\n",
    "]"
   ]
  },
  {
   "cell_type": "markdown",
   "metadata": {},
   "source": [
    "Data source: https://www.statista.com/statistics/944310/how-often-consumers-visit-food-stores-canada/"
   ]
  },
  {
   "cell_type": "markdown",
   "metadata": {},
   "source": [
    "### How often do people socialize?"
   ]
  },
  {
   "cell_type": "code",
   "execution_count": 36,
   "metadata": {},
   "outputs": [],
   "source": [
    "daily = 0.16\n",
    "weekly = 0.47\n",
    "every_10_days = 0.28\n",
    "every_30_days = 0.07\n",
    "every_40_days = 0.02\n",
    "P_SOCIALIZE_DAYS: [\n",
    "  [1, daily],\n",
    "  [7, weekly],\n",
    "  [10, every_10_days],\n",
    "  [30, every_30_days],\n",
    "  [40, every_40_days]\n",
    "]"
   ]
  },
  {
   "cell_type": "markdown",
   "metadata": {},
   "source": [
    "Data source: https://www150.statcan.gc.ca/n1/pub/89-652-x/89-652-x2014006-eng.htm"
   ]
  },
  {
   "cell_type": "markdown",
   "metadata": {},
   "source": [
    "### How often do people exercise?"
   ]
  },
  {
   "cell_type": "code",
   "execution_count": 37,
   "metadata": {},
   "outputs": [],
   "source": [
    "daily = 0.16\n",
    "weekly = 0.47\n",
    "every_10_days = 0.28\n",
    "every_30_days = 0.07\n",
    "every_40_days = 0.02\n",
    "P_EXERCISE_DAYS: [\n",
    "  [1, daily],\n",
    "  [7, weekly],\n",
    "  [10, every_10_days],\n",
    "  [30, every_30_days],\n",
    "  [40, every_40_days]\n",
    "]"
   ]
  },
  {
   "cell_type": "markdown",
   "metadata": {},
   "source": [
    "Data source: https://www150.statcan.gc.ca/n1/pub/89-652-x/89-652-x2014006-eng.htm"
   ]
  },
  {
   "cell_type": "markdown",
   "metadata": {},
   "source": [
    "### How much time do people spend grocery shopping? \n",
    "\n",
    "Daily average time spent in hours on various activities by age group and sex, 15 years and over, Canada and provinces 15 years and over"
   ]
  },
  {
   "cell_type": "code",
   "execution_count": 38,
   "metadata": {},
   "outputs": [],
   "source": [
    "AVERAGE_TIME_SPENT_GROCERY: 0.5 # hours"
   ]
  },
  {
   "cell_type": "markdown",
   "metadata": {},
   "source": [
    "Data source: https://www150.statcan.gc.ca/t1/tbl1/en/tv.action?pid=4510001401&pickMembers%5B0%5D=1.3&pickMembers%5B1%5D=3.1&pickMembers%5B2%5D=4.1&pickMembers%5B3%5D=5.1\n",
    "Table  45-10-0014-01  "
   ]
  },
  {
   "cell_type": "markdown",
   "metadata": {},
   "source": [
    "### How much time do people spend on socializing? "
   ]
  },
  {
   "cell_type": "code",
   "execution_count": 39,
   "metadata": {},
   "outputs": [],
   "source": [
    "AVERAGE_TIME_SPENT_SOCIALIZING: 1.0 # hours"
   ]
  },
  {
   "cell_type": "markdown",
   "metadata": {},
   "source": [
    "Data source: https://www150.statcan.gc.ca/t1/tbl1/en/tv.action?pid=4510001401&pickMembers%5B0%5D=1.3&pickMembers%5B1%5D=3.1&pickMembers%5B2%5D=4.1&pickMembers%5B3%5D=5.1  \n",
    "Table  45-10-0014-01"
   ]
  },
  {
   "cell_type": "markdown",
   "metadata": {},
   "source": [
    "### How much time do people spend on exercise? "
   ]
  },
  {
   "cell_type": "code",
   "execution_count": 40,
   "metadata": {},
   "outputs": [],
   "source": [
    "AVERAGE_TIME_SPENT_EXERCISING: 0.3 # hours"
   ]
  },
  {
   "cell_type": "markdown",
   "metadata": {},
   "source": [
    "Data source: \"Active sports\", Statistics Canada. Table 45-10-0014-01  Daily average time spent in hours on various activities by age group and sex, 15 years and over, Canada and provinces, https://doi.org/10.25318/4510001401-eng"
   ]
  },
  {
   "cell_type": "markdown",
   "metadata": {},
   "source": [
    "### How much time do people spend on work? "
   ]
  },
  {
   "cell_type": "code",
   "execution_count": 41,
   "metadata": {},
   "outputs": [],
   "source": [
    "AVERAGE_TIME_SPENT_WORK: 4.8 # hours"
   ]
  },
  {
   "cell_type": "markdown",
   "metadata": {},
   "source": [
    "Data source: \"Age 25-24\", \"Paid work\", Statistics Canada. Table 45-10-0014-01  Daily average time spent in hours on various activities by age group and sex, 15 years and over, Canada and provinces, https://doi.org/10.25318/4510001401-eng"
   ]
  },
  {
   "cell_type": "markdown",
   "metadata": {},
   "source": [
    "## Intervention related data\n",
    "\n",
    "### Pre-confinement contacts"
   ]
  },
  {
   "cell_type": "code",
   "execution_count": 42,
   "metadata": {},
   "outputs": [],
   "source": [
    "WORKPLACE_MEAN_DAILY_INTERACTIONS = 10\n",
    "OTHER_MEAN_DAILY_INTERACTIONS = 3.1\n",
    "HOUSEHOLD_MEAN_DAILY_INTERACTIONS = 2.7\n",
    "SCHOOL_MEAN_DAILY_INTERACTIONS = 6\n",
    "HOSPITAL_MEAN_DAILY_INTERACTIONS = 10"
   ]
  },
  {
   "cell_type": "markdown",
   "metadata": {},
   "source": [
    "Data source: None"
   ]
  },
  {
   "cell_type": "markdown",
   "metadata": {},
   "source": [
    "### Lockdown contacts"
   ]
  },
  {
   "cell_type": "code",
   "execution_count": 43,
   "metadata": {},
   "outputs": [],
   "source": [
    "LOCKDOWN_FRACTION_REDUCTION_IN_CONTACTS_AT_HOUSEHOLD: 0.30\n",
    "LOCKDOWN_FRACTION_REDUCTION_IN_CONTACTS_AT_WORKPLACE: 0.80\n",
    "LOCKDOWN_FRACTION_REDUCTION_IN_CONTACTS_AT_OTHERS: 0.50\n",
    "LOCKDOWN_FRACTION_REDUCTION_IN_CONTACTS_AT_HOSPITAL: 1.0 # no contacts"
   ]
  },
  {
   "cell_type": "markdown",
   "metadata": {},
   "source": [
    "Data source: http://www.marc-brisson.net/covid19-response/Epidemiologie-et-modelisation-evolution-COVID-19-au-Quebec_29-juin.pdf"
   ]
  },
  {
   "cell_type": "markdown",
   "metadata": {},
   "source": [
    "### Solo dwellers"
   ]
  },
  {
   "cell_type": "code",
   "execution_count": 44,
   "metadata": {},
   "outputs": [
    {
     "data": {
      "text/plain": [
       "(35151730,\n",
       " [[0, 4, 0.054],\n",
       "  [5, 9, 0.057],\n",
       "  [10, 14, 0.055],\n",
       "  [15, 19, 0.058],\n",
       "  [20, 24, 0.064],\n",
       "  [25, 29, 0.065],\n",
       "  [30, 34, 0.066],\n",
       "  [35, 39, 0.065],\n",
       "  [40, 44, 0.064],\n",
       "  [45, 49, 0.067],\n",
       "  [50, 54, 0.076],\n",
       "  [55, 59, 0.075],\n",
       "  [60, 64, 0.065],\n",
       "  [65, 69, 0.056],\n",
       "  [70, 74, 0.04],\n",
       "  [75, 110, 0.073]])"
      ]
     },
     "execution_count": 44,
     "metadata": {},
     "output_type": "execute_result"
    }
   ],
   "source": [
    "population_size_country = 35151730\n",
    "\n",
    "age_0_4 = 0.054\n",
    "age_5_9 = 0.057\n",
    "age_10_14 = 0.055\n",
    "age_15_19 = 0.058\n",
    "age_20_24 = 0.064\n",
    "age_25_29 = 0.065\n",
    "age_30_34 = 0.066\n",
    "age_35_29 = 0.065\n",
    "age_40_44 = 0.064\n",
    "age_45_49 = 0.067\n",
    "age_50_54 = 0.076\n",
    "age_55_59 = 0.075\n",
    "age_60_64 = 0.065\n",
    "age_65_69 = 0.056\n",
    "age_70_74 = 0.040\n",
    "\n",
    "age_75_110 = round(1.0 - (\n",
    "      age_0_4 \n",
    "    + age_5_9 \n",
    "    + age_10_14 \n",
    "    + age_15_19\n",
    "    + age_20_24\n",
    "    + age_25_29\n",
    "    + age_30_34\n",
    "    + age_35_29\n",
    "    + age_40_44\n",
    "    + age_45_49\n",
    "    + age_50_54\n",
    "    + age_55_59\n",
    "    + age_60_64\n",
    "    + age_65_69\n",
    "    + age_70_74\n",
    "), 3)\n",
    "\n",
    "p_age_country = [\n",
    "    [0, 4, age_0_4],\n",
    "    [5, 9, age_5_9],\n",
    "    [10, 14, age_10_14],\n",
    "    [15, 19, age_15_19],\n",
    "    [20, 24, age_20_24],\n",
    "    [25, 29, age_25_29],\n",
    "    [30, 34, age_30_34],\n",
    "    [35, 39, age_35_29],\n",
    "    [40, 44, age_40_44],\n",
    "    [45, 49, age_45_49],\n",
    "    [50, 54, age_50_54],\n",
    "    [55, 59, age_55_59],\n",
    "    [60, 64, age_60_64],\n",
    "    [65, 69, age_65_69],\n",
    "    [70, 74, age_70_74],\n",
    "    [75, 110, age_75_110] \n",
    "]\n",
    "\n",
    "population_size_country, p_age_country"
   ]
  },
  {
   "cell_type": "markdown",
   "metadata": {},
   "source": [
    "Data source: https://www12.statcan.gc.ca/census-recensement/2016/dp-pd/prof/details/page.cfm?Lang=E&Geo1=HR&Code1=2406&Geo2=PR&Code2=01&SearchText=montreal&SearchType=Contains&SearchPR=01&B1=All&TABID=1&type=1"
   ]
  },
  {
   "cell_type": "code",
   "execution_count": 45,
   "metadata": {
    "scrolled": true
   },
   "outputs": [
    {
     "data": {
      "text/html": [
       "<div>\n",
       "<style scoped>\n",
       "    .dataframe tbody tr th:only-of-type {\n",
       "        vertical-align: middle;\n",
       "    }\n",
       "\n",
       "    .dataframe tbody tr th {\n",
       "        vertical-align: top;\n",
       "    }\n",
       "\n",
       "    .dataframe thead th {\n",
       "        text-align: right;\n",
       "    }\n",
       "</style>\n",
       "<table border=\"1\" class=\"dataframe\">\n",
       "  <thead>\n",
       "    <tr style=\"text-align: right;\">\n",
       "      <th></th>\n",
       "      <th>min_age</th>\n",
       "      <th>max_age</th>\n",
       "      <th>p</th>\n",
       "    </tr>\n",
       "  </thead>\n",
       "  <tbody>\n",
       "    <tr>\n",
       "      <th>0</th>\n",
       "      <td>0</td>\n",
       "      <td>4</td>\n",
       "      <td>0.000000</td>\n",
       "    </tr>\n",
       "    <tr>\n",
       "      <th>1</th>\n",
       "      <td>5</td>\n",
       "      <td>9</td>\n",
       "      <td>0.000000</td>\n",
       "    </tr>\n",
       "    <tr>\n",
       "      <th>2</th>\n",
       "      <td>10</td>\n",
       "      <td>14</td>\n",
       "      <td>0.000000</td>\n",
       "    </tr>\n",
       "    <tr>\n",
       "      <th>3</th>\n",
       "      <td>15</td>\n",
       "      <td>19</td>\n",
       "      <td>0.003842</td>\n",
       "    </tr>\n",
       "    <tr>\n",
       "      <th>4</th>\n",
       "      <td>20</td>\n",
       "      <td>24</td>\n",
       "      <td>0.035083</td>\n",
       "    </tr>\n",
       "    <tr>\n",
       "      <th>5</th>\n",
       "      <td>25</td>\n",
       "      <td>29</td>\n",
       "      <td>0.062060</td>\n",
       "    </tr>\n",
       "    <tr>\n",
       "      <th>6</th>\n",
       "      <td>30</td>\n",
       "      <td>34</td>\n",
       "      <td>0.059382</td>\n",
       "    </tr>\n",
       "    <tr>\n",
       "      <th>7</th>\n",
       "      <td>35</td>\n",
       "      <td>39</td>\n",
       "      <td>0.047211</td>\n",
       "    </tr>\n",
       "    <tr>\n",
       "      <th>8</th>\n",
       "      <td>40</td>\n",
       "      <td>44</td>\n",
       "      <td>0.043674</td>\n",
       "    </tr>\n",
       "    <tr>\n",
       "      <th>9</th>\n",
       "      <td>45</td>\n",
       "      <td>49</td>\n",
       "      <td>0.056903</td>\n",
       "    </tr>\n",
       "    <tr>\n",
       "      <th>10</th>\n",
       "      <td>50</td>\n",
       "      <td>54</td>\n",
       "      <td>0.086714</td>\n",
       "    </tr>\n",
       "    <tr>\n",
       "      <th>11</th>\n",
       "      <td>55</td>\n",
       "      <td>59</td>\n",
       "      <td>0.100334</td>\n",
       "    </tr>\n",
       "    <tr>\n",
       "      <th>12</th>\n",
       "      <td>60</td>\n",
       "      <td>64</td>\n",
       "      <td>0.107315</td>\n",
       "    </tr>\n",
       "    <tr>\n",
       "      <th>13</th>\n",
       "      <td>65</td>\n",
       "      <td>69</td>\n",
       "      <td>0.109662</td>\n",
       "    </tr>\n",
       "    <tr>\n",
       "      <th>14</th>\n",
       "      <td>70</td>\n",
       "      <td>74</td>\n",
       "      <td>0.091526</td>\n",
       "    </tr>\n",
       "    <tr>\n",
       "      <th>15</th>\n",
       "      <td>75</td>\n",
       "      <td>110</td>\n",
       "      <td>0.196294</td>\n",
       "    </tr>\n",
       "  </tbody>\n",
       "</table>\n",
       "</div>"
      ],
      "text/plain": [
       "    min_age  max_age         p\n",
       "0         0        4  0.000000\n",
       "1         5        9  0.000000\n",
       "2        10       14  0.000000\n",
       "3        15       19  0.003842\n",
       "4        20       24  0.035083\n",
       "5        25       29  0.062060\n",
       "6        30       34  0.059382\n",
       "7        35       39  0.047211\n",
       "8        40       44  0.043674\n",
       "9        45       49  0.056903\n",
       "10       50       54  0.086714\n",
       "11       55       59  0.100334\n",
       "12       60       64  0.107315\n",
       "13       65       69  0.109662\n",
       "14       70       74  0.091526\n",
       "15       75      110  0.196294"
      ]
     },
     "execution_count": 45,
     "metadata": {},
     "output_type": "execute_result"
    }
   ],
   "source": [
    "n_age_solo_dwellers_country = [[15, 165, 175],\n",
    "                               [16, 290, 255],\n",
    "                               [17, 575, 565],\n",
    "                               [18, 2295, 2455],\n",
    "                               [19, 4970, 5350],\n",
    "                               [20, 8200, 8110],\n",
    "                               [21, 11475, 10490],\n",
    "                               [22, 14750, 12860],\n",
    "                               [23, 19080, 16120],\n",
    "                               [24, 23125, 19335],\n",
    "                               [25, 27570, 21790],\n",
    "                               [26, 30260, 23335],\n",
    "                               [27, 31540, 23595],\n",
    "                               [28, 32280, 23645],\n",
    "                               [29, 32820, 23335],\n",
    "                               [30, 33925, 23500],\n",
    "                               [31, 33485, 22935],\n",
    "                               [32, 32440, 22080],\n",
    "                               [33, 31005, 21050],\n",
    "                               [34, 30400, 20275],\n",
    "                               [35, 30130, 19555],\n",
    "                               [36, 28885, 18560],\n",
    "                               [37, 27270, 17315],\n",
    "                               [38, 26250, 16735],\n",
    "                               [39, 25990, 16470],\n",
    "                               [40, 25945, 16245],\n",
    "                               [41, 25455, 16250],\n",
    "                               [42, 24970, 16145],\n",
    "                               [43, 25245, 16500],\n",
    "                               [44, 26575, 17275],\n",
    "                               [45, 28670, 19140],\n",
    "                               [46, 28810, 19780],\n",
    "                               [47, 29270, 20130],\n",
    "                               [48, 29750, 21340],\n",
    "                               [49, 31390, 23075],\n",
    "                               [50, 34705, 25985],\n",
    "                               [51, 38485, 29365],\n",
    "                               [52, 40260, 31920],\n",
    "                               [53, 40715, 33960],\n",
    "                               [54, 40950, 35645],\n",
    "                               [55, 41520, 37890],\n",
    "                               [56, 41240, 39570],\n",
    "                               [57, 40590, 40605],\n",
    "                               [58, 40310, 42160],\n",
    "                               [59, 39600, 43585],\n",
    "                               [60, 38570, 44130],\n",
    "                               [61, 37850, 46145],\n",
    "                               [62, 35965, 46455],\n",
    "                               [63, 34570, 46255],\n",
    "                               [64, 32920, 45925],\n",
    "                               [65, 32435, 46535],\n",
    "                               [66, 30975, 46780],\n",
    "                               [67, 29965, 47915],\n",
    "                               [68, 29380, 49375],\n",
    "                               [69, 28745, 50500],\n",
    "                               [70, 23795, 43375],\n",
    "                               [71, 22365, 42385],\n",
    "                               [72, 21325, 42450],\n",
    "                               [73, 19845, 41795],\n",
    "                               [74, 18375, 39545],\n",
    "                               [75, 17225, 39055],\n",
    "                               [76, 15600, 37130],\n",
    "                               [77, 14975, 36700],\n",
    "                               [78, 14145, 36085],\n",
    "                               [79, 13340, 34345],\n",
    "                               [80, 12840, 34670],\n",
    "                               [81, 11855, 33210],\n",
    "                               [82, 11505, 31455],\n",
    "                               [83, 11215, 30955],\n",
    "                               [84, 10325, 29680],\n",
    "                               [85, 9725, 27805],\n",
    "                               [86, 8490, 25230],\n",
    "                               [87, 7345, 22045],\n",
    "                               [88, 6410, 19935],\n",
    "                               [89, 5460, 16790],\n",
    "                               [90, 4475, 14400],\n",
    "                               [91, 3630, 12025],\n",
    "                               [92, 2820, 9655],\n",
    "                               [93, 2200, 7410],\n",
    "                               [94, 1580, 5605],\n",
    "                               [95, 1130, 3800],\n",
    "                               [96, 720, 2735],\n",
    "                               [97, 410, 1620],\n",
    "                               [98, 290, 1060],\n",
    "                               [99, 175, 695],\n",
    "                               [100, 100, 970]]\n",
    "\n",
    "\n",
    "region_df = pd.DataFrame(P_AGE_REGION,\n",
    "                        columns=('min_age',\n",
    "                                 'max_age',\n",
    "                                 'p'))\n",
    "\n",
    "P_AGE_SOLO_DWELLERS_GIVEN_HOUSESIZE_1 = region_df[[\"min_age\", \"max_age\"]]\n",
    "\n",
    "age_bins = pd.IntervalIndex.from_arrays(region_df['min_age'].values, \n",
    "                                        region_df['max_age'].values, \n",
    "                                        closed='both')\n",
    "\n",
    "country_df = pd.DataFrame(n_age_solo_dwellers_country, \n",
    "                         columns=('age', \n",
    "                                  'male', \n",
    "                                  'female'))\n",
    "\n",
    "country_df['age_bin'] = pd.cut(country_df['age'], \n",
    "                               age_bins)\n",
    "\n",
    "country_binned_nd = country_df.groupby('age_bin').sum()[['male','female']].sum(1).values\n",
    "\n",
    "n_nd = country_binned_nd \\\n",
    "            / (np.asarray(p_age_country)[:,2] \\\n",
    "                 * population_size_country) \\\n",
    "            * np.asarray(P_AGE_REGION)[:,2] \\\n",
    "            * POPULATION_SIZE_REGION\n",
    "            \n",
    "correction_factor = N_HOUSESIZE_1 / sum(n_nd)\n",
    "\n",
    "corrected_nd = n_nd * correction_factor\n",
    "\n",
    "P_AGE_SOLO_DWELLERS_GIVEN_HOUSESIZE_1[\"p\"] = corrected_nd / N_HOUSESIZE_1\n",
    "\n",
    "P_AGE_SOLO_DWELLERS_GIVEN_HOUSESIZE_1"
   ]
  },
  {
   "cell_type": "markdown",
   "metadata": {},
   "source": [
    "Data source: https://www150.statcan.gc.ca/n1/pub/75-006-x/2019001/article/00003-eng.htm"
   ]
  },
  {
   "cell_type": "markdown",
   "metadata": {},
   "source": [
    "Assumes distribution of people aged 60-79 living in collective is assumed to be skewed towards larger range [1/6, 2/6, 3/6]"
   ]
  },
  {
   "cell_type": "code",
   "execution_count": 46,
   "metadata": {},
   "outputs": [
    {
     "data": {
      "text/plain": [
       "(0.01230845611621665, 0.011022, 0.016366000000000002, 0.043086)"
      ]
     },
     "execution_count": 46,
     "metadata": {},
     "output_type": "execute_result"
    }
   ],
   "source": [
    "P_COLLECTIVE = N_COLLECTIVE_RESIDENTS / POPULATION_SIZE_REGION\n",
    "\n",
    "age_df = pd.DataFrame(P_AGE_REGION, \n",
    "                               columns=('min_age',\n",
    "                                        'max_age',\n",
    "                                        'p'))\n",
    "\n",
    "P_COLLECTIVE_65_69 = 0.167 * float(age_df.loc[age_df['min_age']==65,'p'])\n",
    "P_COLLECTIVE_70_74 = 2 * 0.167 * float(age_df.loc[age_df['min_age']==70,'p'])\n",
    "P_COLLECTIVE_75_above = 3 * 0.167 * float(age_df.loc[age_df['min_age']>=75,'p'])\n",
    "\n",
    "P_COLLECTIVE, \\\n",
    "P_COLLECTIVE_65_69, \\\n",
    "P_COLLECTIVE_70_74, \\\n",
    "P_COLLECTIVE_75_above"
   ]
  },
  {
   "cell_type": "markdown",
   "metadata": {},
   "source": [
    "Data source: None"
   ]
  },
  {
   "cell_type": "markdown",
   "metadata": {},
   "source": [
    "## Adjusted contact matrices"
   ]
  },
  {
   "cell_type": "code",
   "execution_count": 47,
   "metadata": {},
   "outputs": [],
   "source": [
    "population_size_country = 35151730\n",
    "\n",
    "p_age_country = [\n",
    "    [0, 4, 0.054],\n",
    "    [5, 9, 0.057],\n",
    "    [10, 14, 0.055],\n",
    "    [15, 19, 0.058],\n",
    "    [20, 24, 0.064],\n",
    "    [25, 29, 0.065],\n",
    "    [30, 34, 0.066],\n",
    "    [35, 39, 0.065],\n",
    "    [40, 44, 0.064],\n",
    "    [45, 49, 0.067],\n",
    "    [50, 54, 0.076],\n",
    "    [55, 59, 0.075],\n",
    "    [60, 64, 0.065],\n",
    "    [65, 69, 0.056],\n",
    "    [70, 74, 0.04],\n",
    "    [75, 110, 0.073],]"
   ]
  },
  {
   "cell_type": "markdown",
   "metadata": {},
   "source": [
    "Data source: https://www12.statcan.gc.ca/census-recensement/2016/dp-pd/prof/details/page.cfm?Lang=E&Geo1=HR&Code1=2406&Geo2=PR&Code2=01&SearchText=montreal&SearchType=Contains&SearchPR=01&B1=All&TABID=1&type=1"
   ]
  },
  {
   "cell_type": "code",
   "execution_count": 50,
   "metadata": {},
   "outputs": [],
   "source": [
    "country_contact_matrix_all = np.asarray([\n",
    "    [2.8708768069999997, 0.943574775, 0.373580522, 0.253171588, 0.335862006, 0.655843235, 1.034230594, 0.920042313, 0.448951204, 0.294227216, 0.312045293, 0.25033322, 0.161401078, 0.132536659, 0.07109389, 0.037908536],\n",
    "    [0.865953573, 4.481639498, 0.8897866459999999, 0.252074811, 0.156427238, 0.40257765700000003, 0.76881514, 0.93100172, 0.742276142, 0.316226719, 0.210519779, 0.173823945, 0.148955173, 0.11229653099999999, 0.04629893, 0.035474223],\n",
    "    [0.21203608699999998, 1.419850659, 6.675477925, 0.8012270909999999, 0.296434176, 0.252080345, 0.460804053, 0.7187821940000001, 0.963702925, 0.547955805, 0.286065157, 0.143251617, 0.090494646, 0.08989419300000001, 0.056724668, 0.047289207],\n",
    "    [0.131602359, 0.311829493, 2.596952378, 10.35650746, 1.5602828659999999, 0.777386755, 0.646986463, 0.8355516820000001, 1.082847504, 1.0850058759999999, 0.55216954, 0.22582218399999998, 0.086863895, 0.06416785, 0.03185901, 0.020840003],\n",
    "    [0.226273555, 0.175286487, 0.309149028, 2.5520764590000002, 4.416787448, 1.8567915380000002, 1.244935945, 1.120562518, 0.9789642190000001, 1.253775626, 0.848946917, 0.431860388, 0.116143009, 0.059121239000000006, 0.056115639, 0.044583591],\n",
    "    [0.5604375970000001, 0.28378290300000003, 0.21759868, 0.878430397, 2.133436359, 3.7358193760000002, 1.9059477280000001, 1.457475082, 1.238761523, 1.049546776, 1.0108852320000001, 0.516040875, 0.15670103300000002, 0.065123849, 0.03131584, 0.022217996],\n",
    "    [0.764109395, 0.8844942509999999, 0.656623282, 0.51528489, 1.075488433, 1.8244867919999999, 3.118595871, 1.898635934, 1.4509146730000002, 1.165425122, 0.8930680190000001, 0.594933536, 0.230120894, 0.10905688599999999, 0.048268108, 0.045014114],\n",
    "    [0.6732571490000001, 1.013733159, 0.837523412, 0.763828339, 0.7594164809999999, 1.390934001, 1.7357379119999998, 3.0305179310000003, 1.984272024, 1.319324958, 0.9410525559999999, 0.49407920299999997, 0.262297836, 0.169478116, 0.08543297, 0.033861898],\n",
    "    [0.306184381, 0.666510809, 0.982571813, 1.149015112, 0.916971003, 1.231849336, 1.586228388, 1.785873215, 2.76936616, 1.641734395, 1.132034135, 0.41105569399999997, 0.20939502399999999, 0.129525933, 0.08066805, 0.03615801],\n",
    "    [0.372731374, 0.505899601, 0.747719079, 1.71647765, 0.956656191, 1.038228377, 1.293728858, 1.451938084, 1.5689073740000001, 2.2896646880000002, 1.187402041, 0.526926407, 0.188156591, 0.108693554, 0.08425313, 0.073240803],\n",
    "    [0.285056825, 0.624932909, 0.992199525, 1.460810486, 1.110195146, 1.4070707930000002, 1.278359387, 1.2490689959999999, 1.642549112, 1.8830808140000002, 2.154202516, 0.9444108959999999, 0.331052203, 0.157922501, 0.094493828, 0.081724541],\n",
    "    [0.519764499, 0.674308951, 0.7276224729999999, 0.956733752, 0.777544912, 1.240488113, 1.302562902, 1.017429364, 1.135226225, 1.009301037, 1.296009525, 1.773000203, 0.584442011, 0.265872342, 0.116356586, 0.08031509],\n",
    "    [0.408954961, 0.372265245, 0.299667648, 0.463205924, 0.40315311, 0.6071767229999999, 0.735610489, 0.7596705, 0.613065716, 0.547411716, 0.560977013, 0.753030949, 1.249703783, 0.451641305, 0.226512425, 0.092105689],\n",
    "    [0.249176197, 0.391294586, 0.32452269100000003, 0.214008642, 0.283831932, 0.395610833, 0.573462072, 0.559687251, 0.558306737, 0.378609975, 0.42924095, 0.5367087970000001, 0.5779492629999999, 1.15929008, 0.290691064, 0.12038807900000001],\n",
    "    [0.099977394, 0.284923632, 0.288458405, 0.326181658, 0.159844248, 0.251233465, 0.258565579, 0.427187175, 0.536036826, 0.433180891, 0.360688206, 0.326863836, 0.5669313570000001, 0.601427513, 0.83561744, 0.245818896],\n",
    "    [0.195697493, 0.252837558, 0.362628225, 0.298054162, 0.132004774, 0.160098599, 0.255237628, 0.291007437, 0.337793436, 0.40556620600000004, 0.412055089, 0.261903506, 0.19973673, 0.297519533, 0.269463595, 0.46130448700000004]\n",
    "    ])\n",
    "\n",
    "country_contact_matrix_household = [\n",
    "    [0.59207246, 0.437309779, 0.20060485399999997, 0.084645457, 0.129332395, 0.291810736, 0.551087249, 0.5304143579999999, 0.19453487600000002, 0.06587368099999999, 0.054156787000000005, 0.027575468, 0.02071173, 0.007347438, 0.002824868, 0.0054440669999999995],\n",
    "    [0.271954337, 0.849878569, 0.371932453, 0.11664118300000001, 0.031965086000000004, 0.139006546, 0.43088944, 0.575518365, 0.41968337899999997, 0.123986834, 0.04044783, 0.021569495, 0.010694198, 0.0072526959999999994, 0.0028726090000000004, 0.003316365],\n",
    "    [0.124213326, 0.376400364, 1.359935933, 0.35318123100000004, 0.04737858599999999, 0.027110087, 0.129979962, 0.38480395100000003, 0.517710659, 0.224737183, 0.066414297, 0.016870786999999998, 0.009984205, 0.008609508, 0.006602495, 0.00350773],\n",
    "    [0.058300751, 0.11478039, 0.418479855, 1.233643599, 0.18314746699999998, 0.035972346, 0.029131618999999997, 0.181945128, 0.388921759, 0.432658009, 0.195403464, 0.047836878, 0.01441562, 0.011296988, 0.0048100470000000005, 0.0026860390000000003],\n",
    "    [0.123386546, 0.056612326, 0.076434389, 0.387866001, 1.285891289, 0.21835536100000003, 0.047626141, 0.021712767, 0.136269384, 0.42424875700000003, 0.25711594, 0.111626365, 0.01851624, 0.0039383740000000006, 0.004178502, 0.003365332],\n",
    "    [0.39648599100000004, 0.137084966, 0.03484128, 0.069129695, 0.237529518, 1.1129284240000001, 0.22538050199999998, 0.032172141, 0.015585366000000002, 0.06926368299999999, 0.193781029, 0.11245563900000001, 0.042852145999999994, 0.008592863000000001, 0.001126674, 0.005783779],\n",
    "    [0.56977288, 0.528767211, 0.21945194, 0.038817963999999996, 0.055204844, 0.20888226399999998, 1.0208797790000002, 0.221001079, 0.073918949, 0.017836569, 0.034256284, 0.056715095, 0.055305952, 0.008412366999999999, 0.004017403, 0.003439471],\n",
    "    [0.46507425, 0.7116587459999999, 0.544765204, 0.196201037, 0.023614452999999997, 0.02906543, 0.151100265, 0.998725998, 0.171509881, 0.036780837999999996, 0.021203821, 0.014378913, 0.027006431, 0.014675754, 0.0065217240000000004, 0.002284622],\n",
    "    [0.18680190600000002, 0.45701152700000003, 0.6469531070000001, 0.41765280899999996, 0.089305442, 0.022336957, 0.070274118, 0.17099647699999998, 0.8111023270000001, 0.136314517, 0.032235217000000004, 0.005239985999999999, 0.018482846, 0.02060502, 0.00830287, 0.005254925],\n",
    "    [0.107773848, 0.23984711600000003, 0.43649676200000004, 0.642946815, 0.34514044299999996, 0.070086352, 0.026159709, 0.080565731, 0.16944635100000002, 0.845173944, 0.145544374, 0.0293007, 0.010896476, 0.0084787, 0.007277261, 0.01314087],\n",
    "    [0.167731166, 0.144562024, 0.284504852, 0.411182231, 0.391716309, 0.230472414, 0.081546221, 0.04713413599999999, 0.085325635, 0.19467561100000003, 0.8398589870000001, 0.156320312, 0.028782548999999998, 0.007382044, 0.00745129, 0.022385776],\n",
    "    [0.254255594, 0.250673324, 0.182658419, 0.284031309, 0.282951453, 0.32476212600000004, 0.238604641, 0.070653382, 0.035273332000000004, 0.12530154400000001, 0.238763792, 0.90169075, 0.15791, 0.039608934, 0.005568105, 0.019148535],\n",
    "    [0.270744266, 0.23919891, 0.17566543899999998, 0.155203926, 0.115594636, 0.169876024, 0.247154102, 0.160283221, 0.08466924199999999, 0.039774323, 0.089620325, 0.198588495, 0.7868008120000001, 0.10685338400000001, 0.021476868, 0.005091569000000001],\n",
    "    [0.189086642, 0.287945319, 0.265412699, 0.15590489800000001, 0.097571172, 0.10383381300000001, 0.179743923, 0.221963293, 0.221093243, 0.066723828, 0.059569370999999996, 0.09497989400000001, 0.151664111, 0.7555136709999999, 0.100022895, 0.012063913],\n",
    "    [0.08091944200000001, 0.244292945, 0.23012275399999998, 0.195503714, 0.035831918, 0.069166739, 0.063660882, 0.155759136, 0.204319571, 0.131690119, 0.073663737, 0.036298245, 0.101130049, 0.155396162, 0.473538742, 0.093856236],\n",
    "    [0.165964116, 0.201260347, 0.317853845, 0.248791443, 0.065459929, 0.06305388599999999, 0.078772998, 0.153222065, 0.20002873399999999, 0.20939867899999998, 0.254929205, 0.09963826199999999, 0.040888659, 0.07279628099999999, 0.09777384900000001, 0.343519594]\n",
    "    ]\n",
    "\n",
    "country_contact_matrix_other = [\n",
    "    [0.558478194, 0.24307632199999998, 0.12396492699999999, 0.103516869, 0.19019765, 0.292437985, 0.35124117299999996, 0.293095338, 0.20809803100000002, 0.169254118, 0.22466226399999997, 0.200705484, 0.13784388, 0.12421723900000001, 0.068256964, 0.032464468999999996],\n",
    "    [0.264672948, 1.002351092, 0.366096114, 0.11479777, 0.105669899, 0.211133915, 0.267901352, 0.289390665, 0.25668134, 0.141612304, 0.12453300699999999, 0.138079365, 0.13267565, 0.103685899, 0.043078461, 0.032157859],\n",
    "    [0.08498470300000001, 0.45427943200000004, 1.601413762, 0.282959165, 0.203412581, 0.173192815, 0.20778257100000003, 0.241607685, 0.29254368399999997, 0.213405505, 0.15396875699999998, 0.102449813, 0.07438276, 0.080578368, 0.050117216, 0.043599081],\n",
    "    [0.052453857, 0.166020085, 0.769864771, 2.609966333, 0.6867416409999999, 0.323384973, 0.21285106199999998, 0.24782123399999997, 0.26611267, 0.271763731, 0.134741552, 0.071597544, 0.054292165999999996, 0.051765555, 0.027046103, 0.018153963999999998],\n",
    "    [0.080934795, 0.10364832199999999, 0.154003214, 1.121077802, 1.970451175, 0.7841954520000001, 0.482962933, 0.311960096, 0.254382648, 0.34065508, 0.227203606, 0.161010771, 0.067016065, 0.05393450599999999, 0.051746622, 0.041214516],\n",
    "    [0.14084866599999998, 0.073618522, 0.066051035, 0.291895453, 0.886307132, 1.1386976359999998, 0.672926811, 0.43818270000000004, 0.30720765899999997, 0.319389585, 0.296502312, 0.17011946600000002, 0.069337364, 0.054126898, 0.02971565, 0.015144463],\n",
    "    [0.14787039, 0.10567399400000001, 0.159971692, 0.14415187699999998, 0.4148239, 0.614009414, 0.8003391590000001, 0.5556664020000001, 0.366649124, 0.321676499, 0.35833299, 0.276738732, 0.13103726400000001, 0.100182344, 0.044246602999999995, 0.041571147999999995],\n",
    "    [0.130491031, 0.15465314, 0.11609487199999999, 0.09714053199999999, 0.251506671, 0.444430831, 0.578064675, 0.684859454, 0.5007091029999999, 0.369021696, 0.276272285, 0.234301455, 0.208152345, 0.152691581, 0.078902111, 0.031571254],\n",
    "    [0.093658096, 0.122201441, 0.190800393, 0.138507123, 0.270226898, 0.326679877, 0.468620869, 0.492418019, 0.560019533, 0.391619299, 0.295114888, 0.148545581, 0.145558706, 0.10841938400000001, 0.072354908, 0.030890135],\n",
    "    [0.032492917999999996, 0.053706690999999994, 0.069722652, 0.15027522599999998, 0.224516728, 0.280595341, 0.357635055, 0.38849394299999995, 0.390818066, 0.45997959999999993, 0.393105298, 0.19258921199999998, 0.14168903900000002, 0.098443789, 0.076965045, 0.060093840999999995],\n",
    "    [0.056759015, 0.107115469, 0.121183167, 0.203582067, 0.40410813700000003, 0.516463246, 0.393364372, 0.371049281, 0.44025334200000005, 0.564738639, 0.487219991, 0.41309540100000003, 0.25968784699999997, 0.15052864900000001, 0.087030715, 0.059328603],\n",
    "    [0.082683835, 0.07398121099999999, 0.079315833, 0.106381549, 0.28956333100000003, 0.491411913, 0.529255693, 0.42703121299999997, 0.43762524399999997, 0.354170014, 0.570816066, 0.570322478, 0.38197852, 0.22624991100000003, 0.10999898699999999, 0.060396679],\n",
    "    [0.057486913, 0.063212612, 0.054216022999999995, 0.09734347199999999, 0.222998613, 0.34550772799999996, 0.370601616, 0.431945739, 0.39056660600000004, 0.363186135, 0.36096618399999997, 0.47873993, 0.43069834100000004, 0.333244742, 0.20502729600000003, 0.08699928],\n",
    "    [0.057986875, 0.077092196, 0.04881948, 0.058080982, 0.184286005, 0.289792662, 0.38126108700000005, 0.33226772600000004, 0.33163014, 0.30280342600000004, 0.367527053, 0.42591740100000003, 0.41781722, 0.386248435, 0.179518016, 0.108312255],\n",
    "    [0.019057951, 0.040630687, 0.058333103, 0.123027959, 0.123995526, 0.182045481, 0.19486897, 0.263760702, 0.32382445600000004, 0.28028084, 0.251740262, 0.269058643, 0.458030261, 0.438000273, 0.35414917700000004, 0.130553955],\n",
    "    [0.029733376000000002, 0.030421131, 0.04477438, 0.027954766000000002, 0.066498244, 0.089400892, 0.17641769899999998, 0.13770115300000002, 0.137736924, 0.196157198, 0.157115203, 0.162265244, 0.158848071, 0.22471296899999998, 0.171689746, 0.117784893]\n",
    "    ]\n",
    "\n",
    "country_contact_matrix_school = [\n",
    "    [1.720326153, 0.263188673, 0.049010741, 0.065009262, 0.016331961000000002, 0.071594514, 0.13190217099999998, 0.09653261699999999, 0.046318297, 0.059099415999999995, 0.033226242999999996, 0.022052268, 0.002845468, 0.0009719819999999999, 8.267049999999999e-66, 6.397899999999998e-120],\n",
    "    [0.329326288, 2.629409837, 0.151758079, 0.020635858, 0.018792252, 0.052437195, 0.070024348, 0.06609269, 0.065911423, 0.050627581, 0.045538942, 0.014175086000000002, 0.005585324, 0.001344441, 0.00034786, 8.099519999999999e-39],\n",
    "    [0.002838058, 0.589170863, 3.547631188, 0.135257141, 0.012433386000000001, 0.042196965999999995, 0.04396927900000001, 0.069930652, 0.075085804, 0.063508614, 0.047526646, 0.023930975, 0.006127680999999999, 0.000706318, 4.94403e-25, 0.00018239599999999998],\n",
    "    [0.020847751, 0.031029018, 1.355440971, 5.758961349, 0.060482901, 0.056833317, 0.064960815, 0.091022138, 0.078940523, 0.100811317, 0.05934091, 0.034885527, 0.00776429, 0.00109696, 6.2274e-33, 1.7110099999999998e-70],\n",
    "    [0.021952213999999998, 0.015025839, 0.006161766999999999, 0.6185781579999999, 0.303611839, 0.035490889, 0.024263582000000002, 0.029754224, 0.019569348, 0.025535585, 0.014320046000000001, 0.010150281, 0.000770819, 0.001238497, 0.000177254, 1.2202e-47],\n",
    "    [0.023102941000000002, 0.073079415, 0.023678163, 0.145336476, 0.196584609, 0.11912644800000001, 0.021203161, 0.028076284, 0.034477462, 0.032252726, 0.008923289000000001, 0.014507743, 0.004827371, 0.00238802, 0.000463398, 0.00128674],\n",
    "    [0.046466125, 0.250053046, 0.17075413899999997, 0.129261401, 0.03655774, 0.06636605799999999, 0.061408295999999994, 0.042599704, 0.047970679, 0.026692159, 0.023122793, 0.0035066159999999997, 0.006252586, 0.000445796, 1.65556e-48, 3.1139399999999995e-55],\n",
    "    [0.077691868, 0.14742127300000002, 0.111479196, 0.067182609, 0.014359828, 0.042709643, 0.060654114, 0.045331418, 0.052225695, 0.02671572, 0.004205597, 0.009759383, 0.000656691, 0.002098482, 1.8456999999999996e-123, 9.702489999999998e-67],\n",
    "    [0.025724379, 0.08729784, 0.07153393200000001, 0.342253984, 0.007124826999999999, 0.022109392000000002, 0.022104957, 0.029907842999999996, 0.066533359, 0.025380911000000003, 0.030067361, 0.008354762, 0.006719723, 0.000487167, 4.816639999999999e-68, 2.4042899999999995e-92],\n",
    "    [0.23246460800000002, 0.21234579399999998, 0.142041645, 0.604625182, 0.0054851480000000005, 0.029396644, 0.057760177999999995, 0.049924431, 0.048363832999999995, 0.031189703, 0.040704994, 0.018462956000000003, 0.004270368, 0.001754785, 6.217199999999998e-134, 3.27654e-72],\n",
    "    [0.060566644, 0.373255416, 0.482021524, 0.6144722770000001, 0.005810679, 0.015837248999999998, 0.04500119, 0.04440954, 0.057414093, 0.08408022300000001, 0.045077107000000005, 0.023584907999999998, 0.006234157, 9.428699999999999e-24, 1.2397999999999995e-117, 5.649359999999999e-78],\n",
    "    [0.18282507, 0.349654416, 0.312043232, 0.41785349299999996, 0.006676893000000001, 0.060543797999999996, 0.023931356, 0.04016937, 0.052360024000000005, 0.040385862, 0.037109259, 0.04057508, 0.011840736000000001, 1.19739e-31, 0.000782907, 0.000763219],\n",
    "    [0.08072378200000001, 0.06985372299999999, 0.036520791000000004, 0.19774354800000002, 0.013983291, 0.0019118870000000001, 0.017866404, 0.049770667000000005, 0.011243913000000001, 0.01872131, 0.015267728999999999, 0.007694163, 0.025006207000000003, 0.011522876999999999, 4.426079999999999e-67, 2.122e-37],\n",
    "    [0.0020950770000000003, 0.026253707, 0.010282863, 7.743389999999999e-32, 0.001943262, 0.0019054279999999998, 0.01238464, 0.005427057, 0.005517168, 0.009023152, 0.002067455, 0.015758433, 0.008421329, 0.017513811, 0.011125246, 3.457299999999999e-126],\n",
    "    [1.2857e-28, 5.11664e-26, 1.93277e-40, 0.007623919, 2.63721e-22, 1.69852e-24, 1.25963e-26, 0.0076271, 0.007857159, 0.021178954, 0.035262902, 0.021461976, 0.007744909, 0.008014252, 0.007912869, 0.021382622],\n",
    "    [2.8247799999999995e-94, 0.021156081, 8.47688e-42, 0.021307952999999998, 4.900519999999999e-36, 0.007596854, 9.778899999999997e-69, 2.2326799999999996e-60, 1.43834e-48, 8.569469999999998e-60, 4.70029e-42, 1.5997999999999997e-46, 2.2111499999999993e-83, 8.859499999999997e-107, 1.0204299999999997e-80, 6.614099999999998e-113]\n",
    "    ]\n",
    "        \n",
    "country_contact_matrix_work = [\n",
    "    [0.0, 0.0, 0.0, 0.0, 0.0, 0.0, 0.0, 0.0, 0.0, 0.0, 0.0, 0.0, 0.0, 8.206049999999998e-92, 1.20585e-05, 3.1643999999999994e-125],\n",
    "    [0.0, 0.0, 0.0, 0.0, 0.0, 0.0, 0.0, 0.0, 0.0, 0.0, 0.0, 0.0, 0.0, 1.34956e-05, 7.645909999999999e-79, 2.38392e-65],\n",
    "    [0.0, 0.0, 0.16649704199999998, 0.029829555, 0.033209623, 0.009580478, 0.07907224, 0.022439906000000003, 0.078362778, 0.046304503, 0.018155458, 4.141690000000001e-08, 3.11895e-17, 2.7978e-53, 4.95801e-06, 3.7772e-102],\n",
    "    [0.0, 0.0, 0.053166780999999996, 0.753936178, 0.629910858, 0.361196119, 0.34004296700000003, 0.314763181, 0.348872553, 0.27977282, 0.162683613, 0.071502235, 0.010391818, 8.347e-06, 2.8597300000000003e-06, 1.88926e-31],\n",
    "    [0.0, 0.0, 0.072549658, 0.42455449700000003, 0.856833145, 0.818749836, 0.690083288, 0.757135432, 0.5687428379999999, 0.463336204, 0.350307325, 0.149072972, 0.029839886, 9.86113e-06, 1.3260899999999999e-05, 3.7431800000000003e-06],\n",
    "    [0.0, 0.0, 0.09302820199999999, 0.37206877200000005, 0.813015101, 1.3650668680000002, 0.986437255, 0.959043957, 0.8814910359999999, 0.6286407829999999, 0.511678603, 0.218958027, 0.039684151, 1.60675e-05, 1.0118300000000001e-05, 3.01443e-06],\n",
    "    [0.0, 0.0, 0.10644551099999999, 0.20305364899999997, 0.56890195, 0.935229055, 1.235968636, 1.0793687490000001, 0.9623759209999999, 0.799219895, 0.47735595299999994, 0.257973093, 0.037525092, 1.63796e-05, 4.10101e-06, 3.4947900000000006e-06],\n",
    "    [0.0, 0.0, 0.065184141, 0.403304162, 0.469935528, 0.874728097, 0.945918858, 1.30160106, 1.259827344, 0.8868067040000001, 0.639370853, 0.235639452, 0.026482369, 1.2298900000000002e-05, 9.13513e-06, 6.02097e-06],\n",
    "    [0.0, 0.0, 0.073284381, 0.250601197, 0.5503138360000001, 0.86072311, 1.025228445, 1.092550876, 1.3317109409999999, 1.088419668, 0.774616669, 0.248915365, 0.038633749, 1.43626e-05, 1.02722e-05, 1.2950399999999999e-05],\n",
    "    [0.0, 0.0, 0.09945802, 0.318630428, 0.38151387200000003, 0.65815004, 0.8521739159999999, 0.9329539790000001, 0.960279125, 0.95332144, 0.608047374, 0.28657354, 0.031300708, 1.6281e-05, 1.0824400000000001e-05, 6.09172e-06],\n",
    "    [0.0, 0.0, 0.104489981, 0.23157391, 0.308560022, 0.644297885, 0.7584476040000001, 0.786476038, 1.059556042, 1.039586341, 0.78204643, 0.35141027399999997, 0.03634765, 1.1808e-05, 1.18227e-05, 1.01613e-05],\n",
    "    [0.0, 0.0, 0.153604989, 0.1484674, 0.19835323600000002, 0.363770276, 0.510771211, 0.47957539899999996, 0.609967625, 0.489443616, 0.44932040799999995, 0.260411895, 0.032712755, 1.34978e-05, 6.5874e-06, 6.65717e-06],\n",
    "    [0.0, 0.0, 0.033265395, 0.012914978999999998, 0.050576569, 0.08988108300000001, 0.099988367, 0.11767087300000001, 0.126585956, 0.125729948, 0.09512277599999999, 0.06800836, 0.007198423000000001, 2.0302e-05, 8.261019999999999e-06, 1.48398e-05],\n",
    "    [7.603e-06, 3.36327e-06, 7.64855e-06, 2.2762199999999997e-05, 3.14933e-05, 7.893079999999999e-05, 7.24213e-05, 2.91748e-05, 6.61874e-05, 5.9569300000000006e-05, 7.70713e-05, 5.30688e-05, 4.6603e-05, 1.4163299999999999e-05, 2.49066e-05, 1.19109e-05],\n",
    "    [5.7886399999999994e-55, 7.887849999999998e-42, 2.5483000000000002e-06, 2.60648e-05, 1.68036e-05, 2.1244699999999997e-05, 3.57268e-05, 4.02377e-05, 3.56402e-05, 3.09769e-05, 2.13053e-05, 4.49709e-05, 2.6136799999999997e-05, 1.6826600000000003e-05, 1.66514e-05, 2.60823e-05],\n",
    "    [2.3571999999999992e-141, 9.068719999999997e-97, 1.1863699999999997e-89, 9.39934e-22, 4.66e-05, 4.6966400000000005e-05, 4.6931599999999996e-05, 8.42184e-05, 2.7778800000000002e-05, 1.03294e-05, 1.06804e-05, 7.263419999999999e-75, 1.10074e-65, 1.02832e-05, 5.16903e-49, 8.280409999999999e-43]\n",
    "    ]"
   ]
  },
  {
   "cell_type": "markdown",
   "metadata": {},
   "source": [
    "Data source: https://journals.plos.org/ploscompbiol/article?id=10.1371/journal.pcbi.1005697#sec014"
   ]
  },
  {
   "cell_type": "code",
   "execution_count": 51,
   "metadata": {},
   "outputs": [
    {
     "data": {
      "text/plain": [
       "dict_keys(['P_CONTACT_MATRIX_HOUSEHOLD', 'P_CONTACT_MATRIX_WORKPLACE', 'P_CONTACT_MATRIX_SCHOOL', 'P_CONTACT_MATRIX_OTHER', 'P_CONTACT_MATRIX_ALL'])"
      ]
     },
     "execution_count": 51,
     "metadata": {},
     "output_type": "execute_result"
    }
   ],
   "source": [
    "country = {'POPULATION_SIZE_COUNTRY': population_size_country,\n",
    "           'P_AGE_COUNTRY': p_age_country,\n",
    "           'COUNTRY_CONTACT_MATRIX_HOUSEHOLD': country_contact_matrix_household, \n",
    "           'COUNTRY_CONTACT_MATRIX_WORK': country_contact_matrix_work,\n",
    "           'COUNTRY_CONTACT_MATRIX_ALL': country_contact_matrix_all,\n",
    "           'COUNTRY_CONTACT_MATRIX_OTHER': country_contact_matrix_other,\n",
    "           'COUNTRY_CONTACT_MATRIX_SCHOOL': country_contact_matrix_school}\n",
    "\n",
    "region = {'P_AGE_REGION': P_AGE_REGION,\n",
    "          'POPULATION_SIZE_REGION': POPULATION_SIZE_REGION}\n",
    "\n",
    "_, p_mixing_matrices = covicontact.mixing(country, region)\n",
    "p_mixing_matrices.keys()"
   ]
  },
  {
   "cell_type": "markdown",
   "metadata": {},
   "source": [
    "Data sources: cite COVI-AgentSim project"
   ]
  },
  {
   "cell_type": "code",
   "execution_count": 52,
   "metadata": {},
   "outputs": [
    {
     "data": {
      "text/plain": [
       "['0-4',\n",
       " '5-9',\n",
       " '10-14',\n",
       " '15-19',\n",
       " '20-24',\n",
       " '25-29',\n",
       " '30-34',\n",
       " '35-39',\n",
       " '40-44',\n",
       " '45-49',\n",
       " '50-54',\n",
       " '55-59',\n",
       " '60-64',\n",
       " '65-69',\n",
       " '70-74',\n",
       " '75-110']"
      ]
     },
     "execution_count": 52,
     "metadata": {},
     "output_type": "execute_result"
    }
   ],
   "source": [
    "p_age_region_df = pd.DataFrame(P_AGE_REGION,\n",
    "                        columns=('min_age',\n",
    "                                 'max_age',\n",
    "                                 'p'))\n",
    "age_str = [\"-\".join((str(min), str(max)))for min, max in zip(p_age_region_df['min_age'].values, p_age_region_df['max_age'].values)]\n",
    "age_str"
   ]
  },
  {
   "cell_type": "code",
   "execution_count": 53,
   "metadata": {},
   "outputs": [
    {
     "data": {
      "text/plain": [
       "<AxesSubplot:>"
      ]
     },
     "execution_count": 53,
     "metadata": {},
     "output_type": "execute_result"
    },
    {
     "data": {
      "image/png": "[encoded data removed]",
      "text/plain": [
       "<Figure size 432x288 with 2 Axes>"
      ]
     },
     "metadata": {
      "needs_background": "light"
     },
     "output_type": "display_data"
    }
   ],
   "source": [
    "df = p_mixing_matrices['P_CONTACT_MATRIX_HOUSEHOLD']\n",
    "df = df.astype(float)\n",
    "df.columns = age_str\n",
    "df.index = age_str\n",
    "sns.heatmap(df)"
   ]
  },
  {
   "cell_type": "code",
   "execution_count": 54,
   "metadata": {},
   "outputs": [
    {
     "data": {
      "text/plain": [
       "<AxesSubplot:>"
      ]
     },
     "execution_count": 54,
     "metadata": {},
     "output_type": "execute_result"
    },
    {
     "data": {
      "image/png": "[encoded data removed]",
      "text/plain": [
       "<Figure size 432x288 with 2 Axes>"
      ]
     },
     "metadata": {
      "needs_background": "light"
     },
     "output_type": "display_data"
    }
   ],
   "source": [
    "df = p_mixing_matrices['P_CONTACT_MATRIX_WORKPLACE']\n",
    "df = df.astype(float)\n",
    "df.columns = age_str\n",
    "df.index = age_str\n",
    "sns.heatmap(df)"
   ]
  },
  {
   "cell_type": "code",
   "execution_count": 55,
   "metadata": {},
   "outputs": [
    {
     "data": {
      "text/plain": [
       "<AxesSubplot:>"
      ]
     },
     "execution_count": 55,
     "metadata": {},
     "output_type": "execute_result"
    },
    {
     "data": {
      "image/png": "[encoded data removed]",
      "text/plain": [
       "<Figure size 432x288 with 2 Axes>"
      ]
     },
     "metadata": {
      "needs_background": "light"
     },
     "output_type": "display_data"
    }
   ],
   "source": [
    "df = p_mixing_matrices['P_CONTACT_MATRIX_SCHOOL']\n",
    "df = df.astype(float)\n",
    "df.columns = age_str\n",
    "df.index = age_str\n",
    "sns.heatmap(df)"
   ]
  },
  {
   "cell_type": "code",
   "execution_count": 56,
   "metadata": {},
   "outputs": [
    {
     "data": {
      "text/plain": [
       "<AxesSubplot:>"
      ]
     },
     "execution_count": 56,
     "metadata": {},
     "output_type": "execute_result"
    },
    {
     "data": {
      "image/png": "[encoded data removed]",
      "text/plain": [
       "<Figure size 432x288 with 2 Axes>"
      ]
     },
     "metadata": {
      "needs_background": "light"
     },
     "output_type": "display_data"
    }
   ],
   "source": [
    "df = p_mixing_matrices['P_CONTACT_MATRIX_OTHER']\n",
    "df = df.astype(float)\n",
    "df.columns = age_str\n",
    "df.index = age_str\n",
    "sns.heatmap(df)"
   ]
  },
  {
   "cell_type": "code",
   "execution_count": 57,
   "metadata": {},
   "outputs": [
    {
     "data": {
      "text/plain": [
       "<AxesSubplot:>"
      ]
     },
     "execution_count": 57,
     "metadata": {},
     "output_type": "execute_result"
    },
    {
     "data": {
      "image/png": "[encoded data removed]",
      "text/plain": [
       "<Figure size 432x288 with 2 Axes>"
      ]
     },
     "metadata": {
      "needs_background": "light"
     },
     "output_type": "display_data"
    }
   ],
   "source": [
    "df = p_mixing_matrices['P_CONTACT_MATRIX_ALL']\n",
    "df = df.astype(float)\n",
    "df.columns = age_str\n",
    "df.index = age_str\n",
    "sns.heatmap(df)"
   ]
  },
  {
   "cell_type": "code",
   "execution_count": 58,
   "metadata": {},
   "outputs": [],
   "source": [
    "SECONDS_PER_MINUTE = 60  "
   ]
  },
  {
   "cell_type": "markdown",
   "metadata": {},
   "source": [
    "Data source: cite COVI-AgentSim project"
   ]
  },
  {
   "cell_type": "code",
   "execution_count": 59,
   "metadata": {},
   "outputs": [],
   "source": [
    "mean_duration_matrix = [\n",
    "    [154, 111, 110, 50, 134, 239, 254, 169, 77, 38, 20, 11, 12, 9, 14, 1],\n",
    "    [112, 201, 102, 75, 45, 124, 175, 196, 139, 64, 31, 21, 20, 9, 10, 3],\n",
    "    [103, 95, 213, 129, 41, 46, 103, 155, 157, 102, 52, 26, 19, 12, 11, 2],\n",
    "    [50, 74, 132, 223, 62, 28, 33, 52, 78, 80, 48, 21, 9, 6, 5, 3],\n",
    "    [135, 47, 45, 73, 109, 72, 50, 42, 60, 71, 64, 37, 17, 9, 6, 4],\n",
    "    [242, 127, 51, 35, 79, 160, 93, 57, 55, 50, 51, 40, 19, 9, 6, 3],\n",
    "    [254, 175, 104, 36, 47, 88, 160, 92, 66, 50, 43, 36, 19, 9, 6, 5],\n",
    "    [170, 197, 157, 60, 38, 49, 90, 156, 90, 58, 47, 33, 21, 12, 8, 4],\n",
    "    [76, 137, 156, 95, 48, 45, 55, 90, 146, 94, 51, 36, 19, 11, 7, 5],\n",
    "    [38, 63, 102, 92, 64, 47, 49, 58, 92, 153, 81, 42, 20, 11, 8, 7],\n",
    "    [20, 33, 55, 55, 59, 47, 49, 50, 64, 94, 163, 73, 29, 16, 9, 6],\n",
    "    [12, 23, 30, 37, 43, 46, 50, 46, 52, 73, 90, 150, 64, 22, 15, 6],\n",
    "    [15, 26, 28, 22, 30, 34, 38, 37, 40, 42, 48, 99, 157, 85, 18, 9],\n",
    "    [12, 13, 17, 21, 25, 20, 25, 30, 33, 32, 34, 39, 103, 180, 103, 35],\n",
    "    [18, 17, 18, 19, 18, 16, 23, 20, 30, 44, 24, 28, 41, 103, 222, 102],\n",
    "    [3, 4, 4, 14, 10, 10, 13, 18, 22, 26, 18, 21, 15, 39, 141, 173]\n",
    "    ]\n",
    "\n",
    "mean_minus_95_ci_matrix = [\n",
    "    [93.215, 70.15100000000001, 54.165, 0.102, 72.197, 177.30200000000002, 182.326, 104.235, 17.137999999999998, 0.88, 0.73, 0.51, 0.53, 0.42, 0.48, 0.33],\n",
    "    [70.154, 121.28200000000001, 31.173000000000002, 21.128, 2.87, 72.167, 120.23, 136.256, 82.197, 17.112000000000002, 0.77, 0.55, 0.55, 0.36, 0.4, 0.28],\n",
    "    [63.144, 34.156, 98.32799999999999, 73.185, 0.83, 10.82, 56.148999999999994, 101.209, 103.211, 54.15, 7.98, 0.57, 0.52, 0.38, 0.4, 0.25],\n",
    "    [0.10300000000000001, 18.13, 71.193, 180.265, 43.181000000000004, 18.37, 25.41, 39.66, 61.96, 60.1, 35.6, 15.28, 6.12, 3.9, 3.6, 2.5],\n",
    "    [69.202, 0.93, 0.95, 50.97, 83.134, 52.91, 37.62, 33.51, 45.75, 51.9, 46.81, 28.46, 11.23, 5.14, 3.9, 2.6],\n",
    "    [175.308, 69.185, 9.92, 22.47, 60.98, 133.186, 76.11, 47.67, 39.7, 40.6, 40.63, 31.48, 14.25, 5.12, 3.8, 2.5],\n",
    "    [183.325, 121.229, 55.153, 24.48, 35.59, 72.104, 135.186, 76.108, 54.77, 40.59, 35.51, 27.46, 13.24, 6.13, 3.9, 1.9],\n",
    "    [109.23100000000001, 139.254, 103.211, 46.74, 29.47, 38.6, 73.107, 134.17700000000002, 75.105, 48.69, 36.59, 26.4, 11.31, 6.17, 4.11, 3.5],\n",
    "    [22.131, 85.19, 104.208, 72.119, 37.59, 34.56, 44.66, 75.10600000000001, 126.167, 76.111, 40.62, 29.43, 13.25, 6.16, 5.9, 2.8],\n",
    "    [0.89, 12.114, 53.151, 72.112, 48.79, 37.56, 39.58, 47.69, 77.10600000000001, 129.17700000000002, 65.96, 33.51, 15.25, 6.15, 5.11, 2.11],\n",
    "    [0.77, 0.83, 1.109, 41.69, 43.75, 37.58, 39.59, 40.61, 50.79, 76.112, 138.187, 56.89, 19.38, 7.25, 5.14, 2.1],\n",
    "    [0.64, 0.68, 0.75, 25.48, 31.55, 35.57, 40.61, 37.54, 42.62, 55.91, 69.11, 123.176, 46.82, 11.33, 8.21, 2.1],\n",
    "    [0.82, 0.85, 0.86, 11.34, 20.39, 22.45, 28.47, 29.46, 30.5, 31.53, 34.63, 76.12100000000001, 121.193, 57.113, 9.27, 5.12],\n",
    "    [0.8, 0.7, 0.74, 9.32, 6.43, 13.27, 13.36, 21.39, 23.42, 20.43, 21.47, 20.58, 63.141999999999996, 136.22299999999998, 68.138, 17.53],\n",
    "    [0.89, 0.79, 0.78, 9.29, 9.26, 9.23, 17.29, 13.27, 15.45, 23.65, 18.31, 14.42, 13.68, 60.145, 165.27900000000002, 59.145],\n",
    "    [0.72, 0.61, 0.58, 9.18, 7.14, 7.14, 8.18, 8.28, 10.34, 19.33, 12.24, 0.43, 5.26, 19.6, 82.2, 120.226]\n",
    "    ]"
   ]
  },
  {
   "cell_type": "markdown",
   "metadata": {},
   "source": [
    "Data source: https://pubmed.ncbi.nlm.nih.gov/18801889/"
   ]
  },
  {
   "cell_type": "code",
   "execution_count": 64,
   "metadata": {},
   "outputs": [],
   "source": [
    "mean_household_contact_minutes = 744\n",
    "stddev_household_contact_minutes = 308\n",
    "\n",
    "mean_school_contact_minutes = 227\n",
    "stddev_school_contact_minutes = 160\n",
    "\n",
    "mean_workplace_contact_minutes = 184\n",
    "stddev_workplace_contact_minutes = 149\n",
    "\n",
    "mean_other_contact_minutes = 59\n",
    "stddev_other_contact_minutes = 58"
   ]
  },
  {
   "cell_type": "markdown",
   "metadata": {},
   "source": [
    "Data source: https://www.researchgate.net/publication/228649013_Mixing_patterns_between_age_groups_in_social_networks"
   ]
  },
  {
   "cell_type": "code",
   "execution_count": 66,
   "metadata": {},
   "outputs": [
    {
     "data": {
      "text/plain": [
       "dict_keys(['CONTACT_DURATION_GAMMA_SCALE_MATRIX', 'CONTACT_DURATION_GAMMA_SHAPE_MATRIX', 'CONTACT_DURATION_NORMAL_MEAN_MATRIX', 'CONTACT_DURATION_NORMAL_SIGMA_MATRIX', 'HOUSEHOLD_CONTACT_DURATION_NORMAL_MEAN_MATRIX', 'HOUSEHOLD_CONTACT_DURATION_NORMAL_SIGMA_MATRIX', 'SCHOOL_CONTACT_DURATION_NORMAL_MEAN_MATRIX', 'SCHOOL_CONTACT_DURATION_NORMAL_SIGMA_MATRIX', 'WORKPLACE_CONTACT_DURATION_NORMAL_MEAN_MATRIX', 'WORKPLACE_CONTACT_DURATION_NORMAL_SIGMA_MATRIX', 'OTHER_CONTACT_DURATION_NORMAL_MEAN_MATRIX', 'OTHER_CONTACT_DURATION_NORMAL_SIGMA_MATRIX'])"
      ]
     },
     "execution_count": 66,
     "metadata": {},
     "output_type": "execute_result"
    }
   ],
   "source": [
    "country = {'MEAN_DURATION_MATRIX': mean_duration_matrix,\n",
    "           'MEAN_MINUS_95_CI_MATRIX': mean_minus_95_ci_matrix,\n",
    "           'MEAN_HOUSEHOLD_CONTACT_MINUTES': mean_household_contact_minutes,\n",
    "           'STDDEV_HOUSEHOLD_CONTACT_MINUTES': stddev_household_contact_minutes,\n",
    "           'MEAN_SCHOOL_CONTACT_MINUTES': mean_school_contact_minutes,\n",
    "           'STDDEV_SCHOOL_CONTACT_MINUTES': stddev_school_contact_minutes,\n",
    "           'MEAN_WORKPLACE_CONTACT_SECONDS': mean_workplace_contact_minutes * SECONDS_PER_MINUTE,\n",
    "           'STDDEV_WORKPLACE_CONTACT_SECONDS': stddev_workplace_contact_minutes * SECONDS_PER_MINUTE,\n",
    "           'MEAN_WORKPLACE_CONTACT_MINUTES': mean_workplace_contact_minutes,\n",
    "           'STDDEV_WORKPLACE_CONTACT_MINUTES': stddev_workplace_contact_minutes,\n",
    "           'MEAN_OTHER_CONTACT_MINUTES': mean_other_contact_minutes,\n",
    "           'STDDEV_OTHER_CONTACT_MINUTES': stddev_other_contact_minutes,\n",
    "          }\n",
    "\n",
    "duration_matrices = covicontact.duration(country, SECONDS_PER_MINUTE)\n",
    "duration_matrices.keys()"
   ]
  },
  {
   "cell_type": "markdown",
   "metadata": {},
   "source": [
    "Data source: cite COVI-AgentSim project"
   ]
  },
  {
   "cell_type": "code",
   "execution_count": 67,
   "metadata": {},
   "outputs": [
    {
     "data": {
      "text/plain": [
       "<AxesSubplot:>"
      ]
     },
     "execution_count": 67,
     "metadata": {},
     "output_type": "execute_result"
    },
    {
     "data": {
      "image/png": "[encoded data removed]",
      "text/plain": [
       "<Figure size 432x288 with 2 Axes>"
      ]
     },
     "metadata": {
      "needs_background": "light"
     },
     "output_type": "display_data"
    }
   ],
   "source": [
    "df = duration_matrices['CONTACT_DURATION_GAMMA_SCALE_MATRIX']\n",
    "df = df.astype(float)\n",
    "df.columns = age_str\n",
    "df.index = age_str\n",
    "sns.heatmap(df)"
   ]
  },
  {
   "cell_type": "code",
   "execution_count": 68,
   "metadata": {},
   "outputs": [
    {
     "data": {
      "text/plain": [
       "<AxesSubplot:>"
      ]
     },
     "execution_count": 68,
     "metadata": {},
     "output_type": "execute_result"
    },
    {
     "data": {
      "image/png": "[encoded data removed]",
      "text/plain": [
       "<Figure size 432x288 with 2 Axes>"
      ]
     },
     "metadata": {
      "needs_background": "light"
     },
     "output_type": "display_data"
    }
   ],
   "source": [
    "df = duration_matrices['CONTACT_DURATION_GAMMA_SHAPE_MATRIX']\n",
    "df = df.astype(float)\n",
    "df.columns = age_str\n",
    "df.index = age_str\n",
    "sns.heatmap(df)"
   ]
  },
  {
   "cell_type": "code",
   "execution_count": 69,
   "metadata": {},
   "outputs": [
    {
     "data": {
      "text/plain": [
       "<AxesSubplot:>"
      ]
     },
     "execution_count": 69,
     "metadata": {},
     "output_type": "execute_result"
    },
    {
     "data": {
      "image/png": "[encoded data removed]",
      "text/plain": [
       "<Figure size 432x288 with 2 Axes>"
      ]
     },
     "metadata": {
      "needs_background": "light"
     },
     "output_type": "display_data"
    }
   ],
   "source": [
    "df = duration_matrices['CONTACT_DURATION_NORMAL_MEAN_MATRIX']\n",
    "df = df.astype(float)\n",
    "df.columns = age_str\n",
    "df.index = age_str\n",
    "sns.heatmap(df)"
   ]
  },
  {
   "cell_type": "code",
   "execution_count": null,
   "metadata": {},
   "outputs": [],
   "source": []
  }
 ],
 "metadata": {
  "kernelspec": {
   "display_name": "Python 3",
   "language": "python",
   "name": "python3"
  },
  "language_info": {
   "codemirror_mode": {
    "name": "ipython",
    "version": 3
   },
   "file_extension": ".py",
   "mimetype": "text/x-python",
   "name": "python",
   "nbconvert_exporter": "python",
   "pygments_lexer": "ipython3",
   "version": "3.8.10"
  }
 },
 "nbformat": 4,
 "nbformat_minor": 1
}
